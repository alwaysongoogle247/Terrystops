{
 "cells": [
  {
   "cell_type": "code",
<<<<<<< HEAD
   "execution_count": null,
=======
   "execution_count": 3,
>>>>>>> 16470e1bf579d7c46ceb5d3b167277c8fc776227
   "metadata": {},
   "outputs": [],
   "source": [
    "import pandas as pd\n",
    "import numpy as np\n",
    "import seaborn as sns\n",
    "import matplotlib.pyplot as plt\n",
    "import pandas_profiling\n",
    "import plotly.offline as po\n",
    "import plotly.graph_objs as go\n",
    "from sklearn.linear_model import LogisticRegression\n",
    "from sklearn.model_selection import train_test_split\n",
    "%matplotlib inline\n",
    "\n",
    "pd.set_option('display.max_columns',100)\n",
    "pd.set_option('display.max_rows', 200)"
   ]
  },
  {
   "cell_type": "code",
   "execution_count": 4,
   "metadata": {},
   "outputs": [],
   "source": [
    "df = pd.read_csv('Terry_Stops.csv')"
   ]
  },
  {
   "cell_type": "markdown",
   "metadata": {},
   "source": [
    "Data Cleaning "
   ]
  },
  {
   "cell_type": "code",
   "execution_count": 5,
   "metadata": {},
   "outputs": [],
   "source": [
    "df['Precinct'] = df['Precinct'].replace(['SouthWest','-'], ['Southwest','Not Specified']) \n",
    "df = df[df.Precinct != 'OOJ']\n",
    "df = df[df.Precinct != 'FK ERROR']\n",
    "df = df[df.Precinct != 'Unknown']\n",
    "\n",
    "df['Officer Race'] = df['Officer Race'].replace('Unknown', 'Not Specified')\n",
    "\n",
    "df['Subject Perceived Race'] = df['Subject Perceived Race'].replace(['-', 'Unknown'],['Not Specified', 'Not Specified'])\n",
    "df['Subject Perceived Gender'] = df['Subject Perceived Gender'].replace('-', 'Unknown')\n",
    "df['Subject Perceived Gender'] = df['Subject Perceived Gender'].replace('Unable to Determine', 'Gender Diverse (gender non-conforming and/or transgender)')\n",
    "\n",
    "df['Call Type'] = df['Call Type'].replace('-','NOT SPECIFIED')\n",
    "\n",
    "df['Year_of_Report'] = pd.to_datetime(df['Reported Date']).dt.year\n",
    "df['Year_of_Report'] = df['Year_of_Report'].astype(int)\n",
    "\n"
   ]
  },
  {
   "cell_type": "markdown",
   "metadata": {},
   "source": [
    "Feature Engineering"
   ]
  },
  {
   "cell_type": "code",
   "execution_count": 6,
   "metadata": {},
   "outputs": [],
   "source": [
    "#Creating the feature Arrested\n",
    "df['Arrested'] = df['Stop Resolution'] == 'Arrest'\n",
    "df['Arrested'] = df['Arrested'].replace([True, False], [1,0])\n",
    "\n",
    "#Creating the feature White_Officer\n",
    "df['White_Officer'] = (df['Officer Race'] == 'White')\n",
    "df['White_Officer'] = df['White_Officer'].replace([True, False], [1,0])\n",
    "\n",
    "#Creating the features Subject_POC\n",
    "df['Subject_POC'] = df['Subject Perceived Race'] != 'White'\n",
    "df['Subject_POC'] = df['Subject_POC'].replace([True, False], [1,0])\n",
    "\n",
    "#Creating Hour, Morning, Afternoon, Evening and Night Features\n",
    "df['Hour'] = pd.to_datetime(df['Reported Time'], format='%H:%M:%S').dt.hour\n",
    "df['Hour'] = df['Hour'].replace(0,24)\n",
    "df['Morning'] = (df['Hour'] >= 5) & (df['Hour'] < 12)\n",
    "df['Morning'] = df['Morning'].replace([True,False], [1,0])\n",
    "df['Afternoon']= (df['Hour'] >= 12) & (df['Hour'] < 17)\n",
    "df['Afternoon'] = df['Afternoon'].replace([True,False], [1,0])\n",
    "df['Evening'] = (df['Hour'] >= 17) & (df['Hour'] < 21)\n",
    "df['Evening'] = df['Evening'].replace([True,False], [1,0])\n",
    "df['Night'] = (df['Hour'] >= 21) & (df['Hour'] <= 24)\n",
    "df['Night'] = df['Night'].replace([True,False], [1,0])\n",
    "\n",
    "#Creating under_17 feature\n",
    "df['under_17'] = df['Subject Age Group']=='1 - 17'\n",
    "df['under_17'] = df['under_17'].replace([True, False], [1,0])\n",
    "\n",
    "\n",
    "#Creating Officer Age Feature\n",
    "df['Officer_Age'] = df['Year_of_Report'] - df['Officer YOB']\n",
    "under_70 = df[df['Officer_Age']<= 70]\n",
    "df['Officer YOB'] = df['Officer YOB'].astype(int)\n",
    "mean_age = round(under_70['Officer_Age'].mean(), 0)\n",
    "df['Officer_Age'] = df['Officer_Age'].replace([120,119,121,118,116,117,115],[mean_age,mean_age,mean_age,mean_age,mean_age,mean_age,mean_age])\n"
   ]
  },
  {
   "cell_type": "markdown",
   "metadata": {},
   "source": [
    "Data Visualizations "
   ]
  },
  {
   "cell_type": "code",
   "execution_count": 7,
   "metadata": {},
   "outputs": [
    {
     "data": {
      "image/png": "iVBORw0KGgoAAAANSUhEUgAAAYsAAAEWCAYAAACXGLsWAAAAOXRFWHRTb2Z0d2FyZQBNYXRwbG90bGliIHZlcnNpb24zLjMuNCwgaHR0cHM6Ly9tYXRwbG90bGliLm9yZy8QVMy6AAAACXBIWXMAAAsTAAALEwEAmpwYAAAhdElEQVR4nO3de5xeVX3v8c9Xwv0WAmMak0BCyUHQlkBTLuKpSDQEigTPAYpFiWk8qS1aRVsFKyfKRdFWEDwFm0owoAKBwiFSC8YArTcu4S4gJXKRpIQEEu5CDXz7x14DD5OZ7CfJ7Mlk5vt+vZ7Xs/daa6+91uTJ83v22pcl20RERKzJmzZ0AyIiov9LsIiIiFoJFhERUSvBIiIiaiVYRERErQSLiIiolWARjZL0TUmn9FJdO0t6XtImZf1GSR/pjbpLff8qaWpv1bcW+z1d0pOSlq5HHbtLulPSc5L+StKWkr4v6RlJl0s6TtIPe7PdMbgkWMQ6k/SIpN+UL6inJf1M0kclvfa5sv1R26e1Wdd71lTG9q9tb2P7lV5o+xckfadL/YfanrO+da9lO3YGPg3saft3eigzVNL5kpZKelHSPZKmdSn2GeAG29vaPhc4ChgO7Gj7aNvftT2p0c68sc1jJb0q6fy+2mc0K8Ei1tf7bG8L7AKcCXwWuKC3dyJpSG/X2U/sDDxle1l3mZI2A35E9fc9ANge+BvgTEmfaim6C3Bvl/X/sL2qkVZT+29yPLAS+BNJmzfVhuhDtvPKa51ewCPAe7qk7Qu8Cry9rH8bOL0s7wRcAzwNrAB+TPWD5eKyzW+A56l+JY8BDEwHfg38e0vakFLfjcCXgVuAZ4GrgWEl7yBgcXftBSYD/wX8tuzvrpb6PlKW3wR8HngUWAZcBGxf8jrbMbW07Ungb9fwd9q+bL+81Pf5Uv97Sp9fLe34djfbTi/737pL+p+UbbYDrgdeAV4qaZd06d904MPAT1q2fxswv/w7PAF8rqXfJwG/Ap4C5rb8TVf7N+mhvyrb/0Wp+6gu+ZOAB4BngPOAf+v8u5f8PwPupwo21wG7bOjPel7OkUX0Ltu3AIuB/9lN9qdLXgfVEMnnqk38Iaovn/e5Gmb6ass27wL2AA7pYZfHU325jABWAee20cZrgS8Bl5X97dVNsQ+X17uBXYFtgP/Xpcw7gd2BicD/lbRHD7v8BlXA2LX053hgmu0fAYcC/1na8eFutn0v8K+2X+iS/s/AFsABtg+mCrwfK/V8oEv/3nCkJ2lbqqOVa4G3ALsBC0r2x4EjSzvfQvWF/Q9d9l33b/JOYBRwKVWwee08kKSdgCuAk4EdqYLGO1ryp1B9Lv4X1efkx1TBLzawBItown8Cw7pJ/y3Vl/outn9r+8cuPyXX4Au2X7D9mx7yL7b9i/JlegpwTOcJ8PV0HHCW7YdsP0/15XZsl6GXL9r+je27gLuA1YJOacuxwMm2n7P9CPA14ENttmMn4PGuia6Gl54s+WvrcGCp7a/Zfqm06+aS91Gqo6TFtl8GvgAc1aXfdf8mU6kC3Erge8BkSW8ueYcB99q+svThXKD1xP5HgS/bvr/kfwkYL2mXdehn9KIEi2jCSKrhja7+DlgE/FDSQ5JOaqOux9Yi/1FgU9btC7Srt5T6WuseQnVE1Kn1S+5FqqOPrnYqbepa18g22/EkVYB9g/LlvVPJX1ujqYaJurMLcFW5YOFpquGgV3hjv3v8N5G0JXA08F0A2z+nOmr801LkLa3blx8Li7vs/5yW/a+gGtZq9+8VDUmwiF4l6Q+p/mP/pGte+QX7adu7AkcAn5I0sTO7hyrrjjxGtyzvTHX08iTwArBVS7s2oRrWaLfe/6T64mqtexXVGPzaeLK0qWtdS9rc/kfAoZK27pL+v4GXgZvWsj1QfVnvuoa8Q20PbXltYbu1vWv6272f6jzKeeXqraVUn4fOoajHqYaoAJCk1vWy/z/vsv8tbf9s7boYvS3BInqFpO0kHU41Tv0d2/d0U+ZwSbuVL4hnqH6xvlqyn6DnL7A1+aCkPSVtBZwKXOHq0tr/ALaQ9MeSNqU6qdx6Vc4TwJjWy3y7uAQ4sVwCug2vnwNYq6uLSlvmAmdI2rYMp3wK+M6at3zNxVS/vC+XNEbSppIOoRq++YLtZ9amPcU1wAhJn5S0eWnXfiXvm6WtuwBI6ijnEdo1FZgN/B4wvrwOBPaS9HvAvwC/J+nIcnR0AtB6yfA3gZMlva3sf3tJR69DH6OXJVjE+vq+pOeofhH+LXAW0PUegE7jqH4pPw/8HDjP9g0l78vA58vww1+vxf4vprriainVCd+/Aihfon8JfIvqV/wLvHG44/Ly/pSk27upd3ap+9+Bh6muNPr4WrSr1cfL/h+iOuL6Xqm/Vjlv8B6qv+/NVFd9nUV1XuHv1qUxtp+jOnH+Pqq/24NUJ/IBzgHmUQ0VPkd15LJfd/V0JWkk1cn+r9te2vK6jepk+lTbT1INU32V6mqrPYGFVEdJ2L4K+ApwqaRngV9QXQQQG5jqzy9GRDSjHNktBo5r+eEQ/VCOLCKiT0k6pNyVvjnVZbJi3c69RB9KsIiIvnYA1dVYT1INhR25hstwo5/IMFRERNTKkUVERNQakA9n22mnnTxmzJg1lnnhhRfYeuuul64PfIO13zB4+55+Dy7r0+/bbrvtSdsd3eUNyGAxZswYFi5cuMYyN954IwcddFDfNKgfGaz9hsHb9/R7cFmffkt6tKe8DENFREStBIuIiKiVYBEREbUSLCIiolaCRURE1EqwiIiIWgkWERFRK8EiIiJqJVhEREStAXkHd6ydaaecvV7bX3jaib3Ukojor3JkERERtRIsIiKiVoJFRETUSrCIiIhaCRYREVErwSIiImolWERERK0Ei4iIqJVgERERtRoNFpJOlHSvpF9IukTSFpLGSrpZ0iJJl0narJTdvKwvKvljWuo5uaQ/IOmQJtscERGrayxYSBoJ/BUwwfbbgU2AY4GvAGfb3g1YCUwvm0wHVpb0s0s5JO1ZtnsbMBk4T9ImTbU7IiJW1/Qw1BBgS0lDgK2Ax4GDgStK/hzgyLI8paxT8idKUkm/1PbLth8GFgH7NtzuiIho0ViwsL0E+Hvg11RB4hngNuBp26tKscXAyLI8EnisbLuqlN+xNb2bbV4jaYakhZIWLl++vPc7FBExiDU5DLUD1VHBWOAtwNZUw0iNsD3L9gTbEzo6OpraTUTEoNTkMNR7gIdtL7f9W+BK4EBgaBmWAhgFLCnLS4DRACV/e+Cp1vRutomIiD7QZLD4NbC/pK3KuYeJwH3ADcBRpcxU4OqyPK+sU/Kvt+2Sfmy5WmosMA64pcF2R0REF41NfmT7ZklXALcDq4A7gFnAvwCXSjq9pF1QNrkAuFjSImAF1RVQ2L5X0lyqQLMKOMH2K021OyIiVtfoTHm2ZwIzuyQ/RDdXM9l+CTi6h3rOAM7o9QZGRERbcgd3RETUSrCIiIhaCRYREVErwSIiImolWERERK0Ei4iIqJVgERERtRIsIiKiVoJFRETUSrCIiIhaCRYREVErwSIiImolWERERK0Ei4iIqJVgERERtZqcg3t3SXe2vJ6V9ElJwyTNl/Rged+hlJekcyUtknS3pH1a6ppayj8oaWrPe42IiCY0FixsP2B7vO3xwB8ALwJXAScBC2yPAxaUdYBDqaZMHQfMAM4HkDSMagKl/agmTZrZGWAiIqJv9NUw1ETgV7YfBaYAc0r6HODIsjwFuMiVm4ChkkYAhwDzba+wvRKYD0zuo3ZHRAR9FyyOBS4py8NtP16WlwLDy/JI4LGWbRaXtJ7S30DSDEkLJS1cvnx5b7Y9ImLQazxYSNoMOAK4vGuebQPujf3YnmV7gu0JHR0dvVFlREQUfXFkcShwu+0nyvoTZXiJ8r6spC8BRrdsN6qk9ZQeERF9ZEgf7OMDvD4EBTAPmAqcWd6vbkn/mKRLqU5mP2P7cUnXAV9qOak9CTi5D9rd56adcvY6b3vhaSf2YksiIt6o0WAhaWvgvcCftySfCcyVNB14FDimpP8AOAxYRHXl1DQA2ysknQbcWsqdantFk+2OiIg3ajRY2H4B2LFL2lNUV0d1LWvghB7qmQ3MbqKNERFRL3dwR0RErQSLiIiolWARERG1EiwiIqJWgkVERNRKsIiIiFoJFhERUSvBIiIiaiVYRERErQSLiIiolWARERG1EiwiIqJWgkVERNRKsIiIiFoJFhERUavRYCFpqKQrJP1S0v2SDpA0TNJ8SQ+W9x1KWUk6V9IiSXdL2qelnqml/IOSpjbZ5oiIWF3TRxbnANfafiuwF3A/cBKwwPY4YEFZh2qu7nHlNQM4H0DSMGAm1VSr+wIzW6ZYjYiIPtBYsJC0PfBHwAUAtv/L9tPAFGBOKTYHOLIsTwEucuUmYKikEcAhwHzbK2yvBOYDk5tqd0RErK7JI4uxwHLgQkl3SPpWmZN7uO3HS5mlwPCyPBJ4rGX7xSWtp/Q3kDRD0kJJC5cvX97LXYmIGNyaDBZDgH2A823vDbzA60NOwGvzbrs3dmZ7lu0Jtid0dHT0RpUREVE0GSwWA4tt31zWr6AKHk+U4SXK+7KSvwQY3bL9qJLWU3pERPSRxoKF7aXAY5J2L0kTgfuAeUDnFU1TgavL8jzg+HJV1P7AM2W46jpgkqQdyontSSUtIiL6yJCG6/848F1JmwEPAdOoAtRcSdOBR4FjStkfAIcBi4AXS1lsr5B0GnBrKXeq7RUNtzsiIlo0Gixs3wlM6CZrYjdlDZzQQz2zgdm92riIiGhb7uCOiIhaCRYREVErwSIiImolWERERK0Ei4iIqJVgERERtRIsIiKiVoJFRETUavoO7ugj0045u61y79pjZNtlIyI65cgiIiJqJVhEREStBIuIiKjVVrCQdKWkP5aU4BIRMQi1++V/HvCnwIOSzmyZoyIiIgaBtoKF7R/ZPo5qprtHgB9J+pmkaZI2bbKBERGx4bU9rCRpR+DDwEeAO4BzqILH/DVs84ikeyTdKWlhSRsmab6kB8v7DiVdks6VtEjS3ZL2aalnain/oKSpPe0vIiKa0e45i6uAHwNbAe+zfYTty2x/HNimZvN32x5vu3MSpJOABbbHAQvKOsChwLjymgGcX/Y9DJgJ7AfsC8zsDDAREdE32j2y+Cfbe9r+cpkXG0mbA7QEgXZNAeaU5TnAkS3pF7lyEzBU0gjgEGC+7RW2V1IdyUxey31GRMR6aDdYnN5N2s/b2M7ADyXdJmlGSRveGXCApcDwsjwSeKxl28Ulraf0N5A0Q9JCSQuXL1/eRtMiIqJda3zch6Tfofpi3lLS3oBK1nZUQ1J13ml7iaQ3A/Ml/bI107YleR3avRrbs4BZABMmTOiVOiMiolL3bKhDqE5qjwLOakl/DvhcXeW2l5T3ZeW8x77AE5JG2H68DDMtK8WXAKNbNh9V0pYAB3VJv7Fu3xER0XvWOAxle47tdwMftv3ultcRtq9c07aStpa0becyMAn4BTAP6LyiaSpwdVmeBxxfroraH3imDFddB0yStEM5sT2ppEVERB+pG4b6oO3vAGMkfaprvu2zutms03DgKkmd+/me7Wsl3QrMlTQdeBQ4ppT/AXAYsAh4EZhW9rFC0mnAraXcqbZXtNvBiIhYf3XDUFuX9+4uj13jeQHbDwF7dZP+FDCxm3QDJ/RQ12xgdk1bIyKiIWsMFrb/sSz+yPZPW/MkHdhYqyIiol9p99LZb7SZFhERA1DdOYsDgHcAHV3OWWwHbNJkwyIiov+oO2exGdX5iiHAti3pzwJHNdWoiIjoX+rOWfwb8G+Svm370T5qU0RE9DN1RxadNpc0CxjTuo3tg5toVERE9C/tBovLgW8C3wJeaa45ERHRH7UbLFbZPr/RlkRERL/VbrD4vqS/BK4CXu5MzJ3UATDtlLPXedsLTzuxF1sSEU1pN1h0Psvpb1rSDOzau82JiIj+qK1gYXts0w2JiIj+q90jCyS9HdgT2KIzzfZFTTQqIiL6l7aChaSZVHNK7En1dNhDgZ8ACRYREYNAu8+GOorqSbFLbU+jeprs9o21KiIi+pV2g8VvbL8KrJK0HdXsdqNrtomIiAGi3XMWCyUNBf4JuA14Hvh5U42KiIj+pa0jC9t/aftp298E3gtMLcNRtSRtIukOSdeU9bGSbpa0SNJlkjYr6ZuX9UUlf0xLHSeX9AckHbLWvYyIiPXSVrCQ9EedL2BnYGhZbscngPtb1r8CnG17N2AlML2kTwdWlvSzSzkk7QkcC7wNmAycJymPR4+I6EPtnrP4m5bXKcD3gS/UbSRpFPDHVM+UQtWE3AcDV5Qic4Ajy/KUsk7Jn1jKTwEutf2y7Yep5ujet812R0REL2j3prz3ta5LGg18vY1Nvw58htfnwtgReNr2qrK+GBhZlkcCj5X9rZL0TCk/Erippc7WbVrbNAOYAbDzzju30bSIiGhXu0cWXS0G9lhTAUmHA8ts37aO+1grtmfZnmB7QkdHR1/sMiJi0Gj3prxvUD0LCqoAszdwe81mBwJHSDqM6q7v7YBzqM53DClHF6OAJaX8EqrLcRdLGkJ1H8dTLemdWreJjVweQhixcWj3yOKXVOcKFlFdMvsZ2x9c0wa2T7Y9yvYYqhPU19s+DriB16dknQpcXZbn8foDC48q5V3Sjy1XS40FxgG3tNnuiIjoBWs8spC0KfB3wPHAIyV5OPAN4KeSxtu+cy33+VngUkmnA3cAF5T0C4CLJS0CVlAFGGzfK2kucB+wCjjBdiZgiojoQ3XDUF8DtgJ2sf0cQLmD++8lnU91KWvtE2lt3wjcWJYfopurmWy/BBzdw/ZnAGfU7SciIppRFywOA8aV4SAAbD8r6S+AJ6keKBgREQNc3TmLV1sDRacyDLTc9k3dbBMREQNMXbC4T9LxXRMlfZA33pUdEREDWN0w1AnAlZL+jOoBggATgC2B9zfZsI3V+lwKGhHRX60xWNheAuwn6WCqZzMB/MD2gsZbFhER/Ua7j/u4Hri+4bZEREQ/ta6P+4iIiEEkwSIiImolWERERK0Ei4iIqJVgERERtRIsIiKiVoJFRETUSrCIiIhaCRYREVGrsWAhaQtJt0i6S9K9kr5Y0sdKulnSIkmXSdqspG9e1heV/DEtdZ1c0h+QdEhTbY6IiO41eWTxMnCw7b2A8cBkSfsDXwHOtr0bsBKYXspPB1aW9LNLOSTtSTVr3tuoJls6T9ImDbY7IiK6aCxYuPJ8Wd20vAwcDFxR0ucAR5blKWWdkj9Rkkr6pbZftv0w1Tzgq820FxERzWn0nIWkTSTdCSwD5gO/Ap62vaoUWQyMLMsjgccASv4zwI6t6d1s07qvGZIWSlq4fPnyBnoTETF4NRosbL9iezwwiupo4K0N7muW7Qm2J3R0dDS1m4iIQalProay/TRwA3AAMFRS56PRRwFLyvISYDRAyd8eeKo1vZttIiKiDzR5NVSHpKFleUvgvVRTsd4AHFWKTQWuLsvzyjol//oy//c84NhytdRYYBxwS1PtjoiI1bU1+dE6GgHMKVcuvQmYa/saSfcBl0o6HbgDuKCUvwC4WNIiYAXVFVDYvlfSXOA+YBVwgu1XGmx3RER00ViwsH03sHc36Q/RzdVMtl8Cju6hrjOAM3q7jRER0Z7cwR0REbUSLCIiolaCRURE1EqwiIiIWgkWERFRK8EiIiJqJVhEREStBIuIiKjV5B3cEf3WtFPOXq/tLzztxF5qScTGIUcWERFRK8EiIiJqJVhEREStBIuIiKiVYBEREbUSLCIiolaTM+WNlnSDpPsk3SvpEyV9mKT5kh4s7zuUdEk6V9IiSXdL2qelrqml/IOSpva0z4iIaEaTRxargE/b3hPYHzhB0p7AScAC2+OABWUd4FCqKVPHATOA86EKLsBMYD+qSZNmdgaYiIjoG03OlPc48HhZfk7S/cBIYApwUCk2B7gR+GxJv6jMu32TpKGSRpSy822vAJA0H5gMXNJU22PjsLY31r1rj5HrfTNexGDVJ+csJI2hmmL1ZmB4CSQAS4HhZXkk8FjLZotLWk/pXfcxQ9JCSQuXL1/eux2IiBjkGg8WkrYB/hn4pO1nW/PKUYR7Yz+2Z9meYHtCR0dHb1QZERFFo8FC0qZUgeK7tq8syU+U4SXK+7KSvgQY3bL5qJLWU3pERPSRJq+GEnABcL/ts1qy5gGdVzRNBa5uST++XBW1P/BMGa66DpgkaYdyYntSSYuIiD7S5FNnDwQ+BNwj6c6S9jngTGCupOnAo8AxJe8HwGHAIuBFYBqA7RWSTgNuLeVO7TzZHRERfaPJq6F+AqiH7IndlDdwQg91zQZm917rIjZO63I1V+dVYHmseqyP3MEdERG1EiwiIqJWgkVERNRKsIiIiFoJFhERUSvBIiIiaiVYRERErSZvyosYsNbn6bW53yE2RjmyiIiIWgkWERFRK8NQEX0sEzDFxihHFhERUSvBIiIiaiVYRERErZyz6EbGlCMi3qixYCFpNnA4sMz220vaMOAyYAzwCHCM7ZVlVr1zqCY/ehH4sO3byzZTgc+Xak+3PaepNkdE99b3B1TuLdn4NTkM9W1gcpe0k4AFtscBC8o6wKHAuPKaAZwPrwWXmcB+wL7AzDK1akRE9KHGgoXtfwe6Tn86Beg8MpgDHNmSfpErNwFDJY0ADgHm215heyUwn9UDUERENKyvT3APt/14WV4KDC/LI4HHWsotLmk9pUdERB/aYFdDlTm33Vv1SZohaaGkhcuXL++taiMigr4PFk+U4SXK+7KSvgQY3VJuVEnrKX01tmfZnmB7QkdHR683PCJiMOvrYDEPmFqWpwJXt6Qfr8r+wDNluOo6YJKkHcqJ7UklLSIi+lCTl85eAhwE7CRpMdVVTWcCcyVNBx4FjinFf0B12ewiqktnpwHYXiHpNODWUu5U211PmkdERMMaCxa2P9BD1sRuyho4oYd6ZgOze7FpERGxlnIHd8QgkScTxPrIs6EiIqJWgkVERNRKsIiIiFoJFhERUSvBIiIiaiVYRERErVw6GxGNW5/LdjMXRv+QI4uIiKiVYBEREbUyDBUR/dq6DmG9a49MfdObcmQRERG1EiwiIqJWgkVERNRKsIiIiFoJFhERUWujCRaSJkt6QNIiSSdt6PZERAwmG8Wls5I2Af4BeC+wGLhV0jzb923YlkVEf7ahJnwaiHedbxTBAtgXWGT7IQBJlwJTgASLiOh31jdI9cdgo2r66/5N0lHAZNsfKesfAvaz/bGWMjOAGWV1d+CBmmp3Ap5soLn93WDtNwzevqffg8v69HsX2x3dZWwsRxa1bM8CZrVbXtJC2xMabFK/NFj7DYO37+n34NJUvzeWE9xLgNEt66NKWkRE9IGNJVjcCoyTNFbSZsCxwLwN3KaIiEFjoxiGsr1K0seA64BNgNm2713PatseshpgBmu/YfD2Pf0eXBrp90ZxgjsiIjasjWUYKiIiNqAEi4iIqDUogoWk0ZJukHSfpHslfaKkD5M0X9KD5X2HDd3W3iRpC0m3SLqr9PuLJX2spJvLo1MuKxcNDDiSNpF0h6RryvqA77ekRyTdI+lOSQtL2oD+nANIGirpCkm/lHS/pAMGer8l7V7+nTtfz0r6ZFP9HhTBAlgFfNr2nsD+wAmS9gROAhbYHgcsKOsDycvAwbb3AsYDkyXtD3wFONv2bsBKYPqGa2KjPgHc37I+WPr9btvjW661H+ifc4BzgGttvxXYi+rffUD32/YD5d95PPAHwIvAVTTVb9uD7gVcTfWcqQeAESVtBPDAhm5bg33eCrgd2I/q7s4hJf0A4LoN3b4G+juq/Ec5GLgG0CDp9yPATl3SBvTnHNgeeJhywc5g6XeXvk4CftpkvwfLkcVrJI0B9gZuBobbfrxkLQWGb6h2NaUMxdwJLAPmA78Cnra9qhRZDAzEyYq/DnwGeLWs78jg6LeBH0q6rTwCBwb+53wssBy4sAw7fkvS1gz8frc6FrikLDfS70EVLCRtA/wz8Enbz7bmuQrDA+46YtuvuDpMHUX1QMa3btgWNU/S4cAy27dt6LZsAO+0vQ9wKNVw6x+1Zg7Qz/kQYB/gfNt7Ay/QZehlgPYbgHLu7Qjg8q55vdnvQRMsJG1KFSi+a/vKkvyEpBElfwTVr+8ByfbTwA1Uwy9DJXXekDkQH51yIHCEpEeAS6mGos5h4Pcb20vK+zKq8et9Gfif88XAYts3l/UrqILHQO93p0OB220/UdYb6fegCBaSBFwA3G/7rJasecDUsjyV6lzGgCGpQ9LQsrwl1Xma+6mCxlGl2IDrt+2TbY+yPYbq8Px628cxwPstaWtJ23YuU41j/4IB/jm3vRR4TNLuJWki1fQFA7rfLT7A60NQ0FC/B8Ud3JLeCfwYuIfXx7A/R3XeYi6wM/AocIztFRukkQ2Q9PvAHKpHpLwJmGv7VEm7Uv3iHgbcAXzQ9ssbrqXNkXQQ8Ne2Dx/o/S79u6qsDgG+Z/sMSTsygD/nAJLGA98CNgMeAqZRPvMM7H5vDfwa2NX2MyWtkX/vQREsIiJi/QyKYaiIiFg/CRYREVErwSIiImolWERERK0Ei4iIqJVgEQFIGiXp6vKkzl9JOqf1qbSSLpF0t6QTJb21POXzDkm/K+lnDbbr65KWSMr/1dig8gGMQa/ctHkl8P9dPanzfwDbAGeU/N8B/tD279s+GzgSuML23rZ/ZfsdvdCG1aY4LgHi/cBjwLvWdx8R6yPBIqJ6HMhLti+E6nlawInAn0naCvghMLIcTcwEPgn8haQbACQ931mRpM+W+STuknRmSftdSdeWh/v9WNJbS/q3JX1T0s3AV7tp10HAvcD5VHfpdu6jo8xTcG95aN6jknYqeR9UNYfJnZL+UdImvfunisFqtV8zEYPQ24A3PHTQ9rOSfg3sRvWQtmvKAxk7j0Set/33rdtIOhSYAuxn+0VJw0rWLOCjth+UtB9wHlWAguoZVe8oAaqrzsc4XA18SdKmtn8LzKR6hMmXJU2mzMshaQ/gT4ADbf9W0nnAccBF6/yXiSgSLCJ6z3uAC22/CGB7RXnS8TuAy6sYA8DmLdtc3l2gKOdLDgM+Zfu5cvRxCNXcHO+kGp7C9rWSVpbNJlJNgnNr2deWDNyH50UfS7CIqB46d1RrgqTtqJ6tswh483rU/SaqeTTG95D/Qg/phwBDgXvKF/9WwG+ogkVPBMyxffI6tTRiDXLOIqKaUW8rScdDNWEU8DXg251HCW2aD0wr5zmQNKzMm/KwpKNLmiTt1UZdHwA+YntMeXruWOC9pe6fAseU+iYBnXMsLwCOkvTmzv1L2mUt2h/RowSLGPTKBDHvB46W9CDwH8BLVE8mXpt6rqV6PPRCVbMT/nXJOg6YLukuqhPWU9ZUTwkIk4F/aan7BeAnwPuALwKTJP0COJpqNrTnbN8HfJ5qpry7qYLXiLXpQ0RP8tTZiI2MpM2BV2yvknQA1Qxx4zdws2KAyzmLiI3PzsDcch/GfwH/ZwO3JwaBHFlEREStnLOIiIhaCRYREVErwSIiImolWERERK0Ei4iIqPXf0H1m3+8WuaMAAAAASUVORK5CYII=\n",
      "text/plain": [
       "<Figure size 432x288 with 1 Axes>"
      ]
     },
     "metadata": {
      "needs_background": "light"
     },
     "output_type": "display_data"
    }
   ],
   "source": [
    "size, scale = 100, 10\n",
    "\n",
    "df['Officer_Age'].plot.hist(grid=True, bins=20, rwidth=1,\n",
    "                   color='#607c8e')\n",
    "plt.title('Distribution of Officer Age')\n",
    "plt.xlabel('Officer Age')\n",
    "plt.ylabel('Quantity')\n",
    "plt.grid(axis='y', alpha=0.75)"
   ]
  },
  {
   "cell_type": "markdown",
   "metadata": {},
   "source": [
    "Modeling"
   ]
  },
  {
   "cell_type": "code",
   "execution_count": 8,
   "metadata": {},
   "outputs": [
    {
     "data": {
      "text/plain": [
       "0    34712\n",
       "1    11342\n",
       "Name: Arrested, dtype: int64"
      ]
     },
     "execution_count": 8,
     "metadata": {},
     "output_type": "execute_result"
    }
   ],
   "source": [
    "features = ['White_Officer', 'Subject_POC', 'Officer_Age', 'under_17','Morning', 'Afternoon', 'Evening', 'Night']\n",
    "y=df['Arrested']\n",
    "X=df[features]\n",
    "df['Arrested'].value_counts()"
   ]
  },
  {
   "cell_type": "code",
   "execution_count": 9,
   "metadata": {},
   "outputs": [],
   "source": [
    "X_train, X_test, y_train, y_test = train_test_split(X,y, test_size = 0.2, random_state = 0)"
   ]
  },
  {
   "cell_type": "code",
   "execution_count": 10,
   "metadata": {},
   "outputs": [],
   "source": [
    "from sklearn.neighbors import KNeighborsClassifier\n",
    "from sklearn.metrics import confusion_matrix\n",
    "from sklearn.metrics import f1_score\n",
    "from sklearn.metrics import accuracy_score\n",
    "from sklearn.metrics import precision_score\n",
    "from sklearn.metrics import recall_score"
   ]
  },
  {
   "cell_type": "code",
   "execution_count": 11,
   "metadata": {},
   "outputs": [],
   "source": [
    "#Starting with k of 95, determined this by finding the square root of the length of \n",
    "#the entries.\n",
    "knn = KNeighborsClassifier(n_neighbors=5, p=2)"
   ]
  },
  {
   "cell_type": "code",
   "execution_count": 12,
   "metadata": {},
   "outputs": [
    {
     "data": {
      "text/plain": [
       "KNeighborsClassifier()"
      ]
     },
     "execution_count": 12,
     "metadata": {},
     "output_type": "execute_result"
    }
   ],
   "source": [
    "knn.fit(X_train, y_train)"
   ]
  },
  {
   "cell_type": "code",
   "execution_count": 13,
   "metadata": {},
   "outputs": [
    {
     "data": {
      "text/plain": [
       "array([0, 0, 0, ..., 0, 0, 0])"
      ]
     },
     "execution_count": 13,
     "metadata": {},
     "output_type": "execute_result"
    }
   ],
   "source": [
    "y_pred= knn.predict(X_test)\n",
    "y_pred"
   ]
  },
  {
   "cell_type": "markdown",
   "metadata": {},
   "source": [
    "Model Evaluation"
   ]
  },
  {
   "cell_type": "code",
   "execution_count": 14,
   "metadata": {},
   "outputs": [
    {
     "name": "stdout",
     "output_type": "stream",
     "text": [
      "[[6300  638]\n",
      " [2001  272]]\n"
     ]
    }
   ],
   "source": [
    "cm = confusion_matrix(y_test, y_pred)\n",
    "print (cm)"
   ]
  },
  {
   "cell_type": "code",
<<<<<<< HEAD
   "execution_count": 1,
   "metadata": {},
   "outputs": [
    {
     "ename": "NameError",
     "evalue": "name 'sns' is not defined",
     "output_type": "error",
     "traceback": [
      "\u001b[0;31m---------------------------------------------------------------------------\u001b[0m",
      "\u001b[0;31mNameError\u001b[0m                                 Traceback (most recent call last)",
      "\u001b[0;32m<ipython-input-1-4502161bfdd8>\u001b[0m in \u001b[0;36m<module>\u001b[0;34m()\u001b[0m\n\u001b[1;32m      1\u001b[0m \u001b[0mcategories\u001b[0m \u001b[0;34m=\u001b[0m \u001b[0;34m[\u001b[0m\u001b[0;34m'Not Arrested'\u001b[0m\u001b[0;34m,\u001b[0m\u001b[0;34m'Arrested'\u001b[0m\u001b[0;34m]\u001b[0m\u001b[0;34m\u001b[0m\u001b[0;34m\u001b[0m\u001b[0m\n\u001b[0;32m----> 2\u001b[0;31m sns.heatmap(cm/np.sum(cm), annot=True, \n\u001b[0m\u001b[1;32m      3\u001b[0m             fmt='.2%', cmap='Blues', xticklabels=categories, yticklabels=categories)\n\u001b[1;32m      4\u001b[0m \u001b[0mplt\u001b[0m\u001b[0;34m.\u001b[0m\u001b[0mxlabel\u001b[0m\u001b[0;34m(\u001b[0m\u001b[0;34m\"Predicted\"\u001b[0m\u001b[0;34m,\u001b[0m\u001b[0msize\u001b[0m\u001b[0;34m=\u001b[0m\u001b[0;36m15\u001b[0m\u001b[0;34m,\u001b[0m \u001b[0mloc\u001b[0m\u001b[0;34m=\u001b[0m\u001b[0;34m'center'\u001b[0m\u001b[0;34m)\u001b[0m\u001b[0;34m\u001b[0m\u001b[0;34m\u001b[0m\u001b[0m\n\u001b[1;32m      5\u001b[0m \u001b[0mplt\u001b[0m\u001b[0;34m.\u001b[0m\u001b[0mylabel\u001b[0m\u001b[0;34m(\u001b[0m\u001b[0;34m\"Actual\"\u001b[0m\u001b[0;34m,\u001b[0m\u001b[0msize\u001b[0m\u001b[0;34m=\u001b[0m\u001b[0;36m15\u001b[0m\u001b[0;34m,\u001b[0m \u001b[0mloc\u001b[0m\u001b[0;34m=\u001b[0m\u001b[0;34m'center'\u001b[0m\u001b[0;34m)\u001b[0m\u001b[0;34m\u001b[0m\u001b[0;34m\u001b[0m\u001b[0m\n",
      "\u001b[0;31mNameError\u001b[0m: name 'sns' is not defined"
     ]
    }
   ],
   "source": [
    "categories = ['Not Arrested','Arrested']\n",
    "sns.heatmap(cm/np.sum(cm), annot=True, \n",
    "            fmt='.2%', cmap='Blues', xticklabels=categories, yticklabels=categories)\n",
    "plt.xlabel(\"Predicted\",size=15, loc='center')\n",
    "plt.ylabel(\"Actual\",size=15, loc='center')\n",
    "plt.title('KNN Confusion Matrix',size=20)"
   ]
  },
  {
   "cell_type": "code",
=======
>>>>>>> 16470e1bf579d7c46ceb5d3b167277c8fc776227
   "execution_count": 15,
   "metadata": {},
   "outputs": [
    {
     "name": "stdout",
     "output_type": "stream",
     "text": [
      "F1 Score: 0.17090794847628024\n",
      "Accuracy Score: 0.7134947345565085\n"
     ]
    }
   ],
   "source": [
    "#Evaluating with f1 score and Accuracy Score\n",
    "print('Original F1 Score:', (f1_score(y_test, y_pred)))\n",
    "print('Original Accuracy Score:', (accuracy_score(y_test, y_pred)))"
   ]
  },
  {
   "cell_type": "markdown",
   "metadata": {},
   "source": [
    "---------------------------------------"
   ]
  },
  {
   "cell_type": "markdown",
   "metadata": {},
   "source": [
    "Fixing Class Imbalance Using Oversampling: SMOTE"
   ]
  },
  {
   "cell_type": "code",
   "execution_count": 16,
   "metadata": {},
   "outputs": [],
   "source": [
    "training = pd.concat([X_train, y_train], axis=1)"
   ]
  },
  {
   "cell_type": "code",
   "execution_count": 17,
   "metadata": {},
   "outputs": [],
   "source": [
    "yes_arrested = training[training.Arrested==1] \n",
    "not_arrested = training[training.Arrested==0]"
   ]
  },
  {
   "cell_type": "code",
   "execution_count": 18,
   "metadata": {},
   "outputs": [],
   "source": [
    "from imblearn.over_sampling import SMOTE"
   ]
  },
  {
   "cell_type": "code",
   "execution_count": 19,
   "metadata": {},
   "outputs": [],
   "source": [
    "sm = SMOTE(sampling_strategy='minority', random_state=23)\n",
    "X_train_smote, y_train_smote = sm.fit_sample(X_train, y_train)"
   ]
  },
  {
   "cell_type": "code",
   "execution_count": 20,
   "metadata": {},
   "outputs": [],
   "source": [
    "def fit_predict(model, x_train, y_train, test):\n",
    "    model.fit(x_train, y_train)\n",
    "    predictions = model.predict(test)\n",
    "    \n",
    "    print('Test Accuracy Score: ', accuracy_score(test, prediction))\n",
    "    \n",
    "    print('Test F1 score: ', f1_score(test, predictions))"
   ]
  },
  {
   "cell_type": "code",
   "execution_count": 21,
   "metadata": {},
   "outputs": [
    {
     "name": "stdout",
     "output_type": "stream",
     "text": [
      "SMOTE F1 Score:  0.31510594668489406\n",
      "SMOTE Accuracy Score:  0.5648680924981001\n"
     ]
    }
   ],
   "source": [
    "smote_knn = KNeighborsClassifier(n_neighbors=5, p=2)\n",
    "smote_knn.fit(X_train_smote, y_train_smote)\n",
    "smote_pred = smote_knn.predict(X_test)\n",
    "\n",
    "print ( 'SMOTE F1 Score: ', f1_score(y_test, smote_pred))\n",
    "print ('SMOTE Accuracy Score: ', accuracy_score(y_test, smote_pred))"
   ]
  },
  {
   "cell_type": "markdown",
   "metadata": {},
   "source": [
    "---------------------------"
   ]
  },
  {
   "cell_type": "markdown",
   "metadata": {},
   "source": [
    "Fixing Class Imbalance Using Undersampling: "
   ]
  },
  {
   "cell_type": "code",
   "execution_count": 52,
   "metadata": {},
   "outputs": [],
   "source": [
    "from collections import Counter\n",
    "from imblearn.under_sampling import TomekLinks"
   ]
  },
  {
   "cell_type": "code",
   "execution_count": 53,
   "metadata": {},
   "outputs": [
    {
     "name": "stdout",
     "output_type": "stream",
     "text": [
      "Resampled dataset shape Counter({0: 27773, 1: 9069})\n"
     ]
    }
   ],
   "source": [
    "tl = TomekLinks()\n",
    "X_res, y_res = tl.fit_resample(X_train, y_train)\n",
    "print('Resampled dataset shape %s' % Counter(y_res))"
   ]
  },
  {
   "cell_type": "code",
   "execution_count": 54,
   "metadata": {},
   "outputs": [
    {
     "data": {
      "text/plain": [
       "array([    0,     1,     2, ..., 36840, 36841, 36842])"
      ]
     },
     "execution_count": 54,
     "metadata": {},
     "output_type": "execute_result"
    }
   ],
   "source": [
    "tl.sample_indices_"
   ]
  },
  {
   "cell_type": "code",
   "execution_count": 55,
   "metadata": {},
   "outputs": [],
   "source": [
    "tl = TomekLinks()\n",
    "X_train_tomek, y_train_tomek = tl.fit_sample(X_train, y_train)"
   ]
  },
  {
   "cell_type": "code",
   "execution_count": 51,
   "metadata": {},
   "outputs": [
    {
     "name": "stdout",
     "output_type": "stream",
     "text": [
      "Tomek F1 score:  0.1699013681196309\n",
      "Tomek Accuracy score:  0.7167517099120617\n"
     ]
    }
   ],
   "source": [
    "tomek_knn = KNeighborsClassifier(n_neighbors=5, p=2)\n",
    "tomek_knn.fit(X_train_tomek, y_train_tomek)\n",
    "tomek_pred = tomek_knn.predict(X_test)\n",
    "\n",
    "\n",
    "# checking accuracy\n",
    "print('Tomek F1 score: ', f1_score(y_test, tomek_pred))\n",
    "# checking accuracy\n",
    "print('Tomek Accuracy score: ', accuracy_score(y_test, tomek_pred))"
   ]
  },
  {
   "cell_type": "markdown",
   "metadata": {},
   "source": [
    "----------------------------------------"
   ]
  },
  {
   "cell_type": "markdown",
   "metadata": {},
   "source": [
    "Upsampling"
   ]
  },
  {
   "cell_type": "code",
   "execution_count": 32,
   "metadata": {},
   "outputs": [],
   "source": [
    "from sklearn.utils import resample"
   ]
  },
  {
   "cell_type": "code",
   "execution_count": 33,
   "metadata": {},
   "outputs": [],
   "source": [
    "arrested_upsampled = resample(yes_arrested,\n",
    "                        replace=True,\n",
    "                        n_samples=len(not_arrested),\n",
    "                        random_state=23)"
   ]
  },
  {
   "cell_type": "code",
   "execution_count": 34,
   "metadata": {},
   "outputs": [
    {
     "data": {
      "text/plain": [
       "(27774, 9)"
      ]
     },
     "execution_count": 34,
     "metadata": {},
     "output_type": "execute_result"
    }
   ],
   "source": [
    "arrested_upsampled.shape"
   ]
  },
  {
   "cell_type": "code",
   "execution_count": 35,
   "metadata": {},
   "outputs": [
    {
     "data": {
      "text/plain": [
       "1    27774\n",
       "0    27774\n",
       "Name: Arrested, dtype: int64"
      ]
     },
     "execution_count": 35,
     "metadata": {},
     "output_type": "execute_result"
    }
   ],
   "source": [
    "upsampled = pd.concat([not_arrested, arrested_upsampled])\n",
    "\n",
    "upsampled.Arrested.value_counts()"
   ]
  },
  {
   "cell_type": "code",
   "execution_count": 47,
   "metadata": {},
   "outputs": [
    {
     "name": "stdout",
     "output_type": "stream",
     "text": [
      "Upsampled F1 Score: 0.3114607545145718\n",
      "Upsampled Accuracy score:  0.5819129301921615\n"
     ]
    }
   ],
   "source": [
    "y_train_up = upsampled.Arrested\n",
    "X_train_up = upsampled.drop('Arrested', axis=1)\n",
    "\n",
    "upsampled_knn = KNeighborsClassifier(n_neighbors=5, p=2)\n",
    "upsampled_knn.fit(X_train_up, y_train_up)\n",
    "upsampled_pred = upsampled_knn.predict(X_test)\n",
    "\n",
    "print('Upsampled F1 Score:', f1_score(y_test, upsampled_pred))\n",
    "print('Upsampled Accuracy score: ', accuracy_score(y_test, upsampled_pred))"
   ]
  },
  {
   "cell_type": "markdown",
   "metadata": {},
   "source": [
    "-------------------------------------------"
   ]
  },
  {
   "cell_type": "markdown",
   "metadata": {},
   "source": [
    "Downsampling "
   ]
  },
  {
   "cell_type": "code",
   "execution_count": 40,
   "metadata": {},
   "outputs": [],
   "source": [
    "arrested_downsampled = resample(not_arrested,\n",
    "                               replace = False,\n",
    "                               n_samples = len(yes_arrested),\n",
    "                               random_state = 23)"
   ]
  },
  {
   "cell_type": "code",
   "execution_count": 41,
   "metadata": {},
   "outputs": [
    {
     "data": {
      "text/plain": [
       "(9069, 9)"
      ]
     },
     "execution_count": 41,
     "metadata": {},
     "output_type": "execute_result"
    }
   ],
   "source": [
    "arrested_downsampled.shape"
   ]
  },
  {
   "cell_type": "code",
   "execution_count": 43,
   "metadata": {},
   "outputs": [
    {
     "data": {
      "text/plain": [
       "1    9069\n",
       "0    9069\n",
       "Name: Arrested, dtype: int64"
      ]
     },
     "execution_count": 43,
     "metadata": {},
     "output_type": "execute_result"
    }
   ],
   "source": [
    "downsampled = pd.concat([arrested_downsampled, yes_arrested])\n",
    "\n",
    "downsampled.Arrested.value_counts()"
   ]
  },
  {
   "cell_type": "code",
   "execution_count": 46,
   "metadata": {},
   "outputs": [
    {
     "name": "stdout",
     "output_type": "stream",
     "text": [
      "Downsampled F1 Score: 0.32810694834131043\n",
      "Downsampled Accuracy score:  0.5580284442514385\n"
     ]
    }
   ],
   "source": [
    "y_train_up = downsampled.Arrested\n",
    "X_train_up = downsampled.drop('Arrested', axis=1)\n",
    "\n",
    "downsampled_knn = KNeighborsClassifier(n_neighbors=5, p=2)\n",
    "downsampled_knn.fit(X_train_up, y_train_up)\n",
    "downsampled_pred = downsampled_knn.predict(X_test)\n",
    "\n",
    "print('Downsampled F1 Score:', f1_score(y_test, downsampled_pred))\n",
    "print('Downsampled Accuracy score: ', accuracy_score(y_test, downsampled_pred))"
   ]
  },
  {
   "cell_type": "markdown",
   "metadata": {},
   "source": [
    "-------------------------------"
   ]
  },
  {
   "cell_type": "code",
   "execution_count": 57,
   "metadata": {},
   "outputs": [
    {
     "name": "stdout",
     "output_type": "stream",
     "text": [
      "Original F1 Score: 0.17090794847628024\n",
      "Original Accuracy Score: 0.7134947345565085\n",
      "Upsampled F1 Score: 0.3114607545145718\n",
      "Upsampled Accuracy score:  0.5819129301921615\n",
      "Downsampled F1 Score: 0.32810694834131043\n",
      "Downsampled Accuracy score:  0.5580284442514385\n",
      "Tomek F1 score:  0.1699013681196309\n",
      "Tomek Accuracy score:  0.7167517099120617\n",
      "SMOTE F1 Score:  0.31510594668489406\n",
      "SMOTE Accuracy Score:  0.5648680924981001\n"
     ]
    }
   ],
   "source": [
    "print('Original F1 Score:', (f1_score(y_test, y_pred)))\n",
    "print('Original Accuracy Score:', (accuracy_score(y_test, y_pred)))\n",
    "\n",
    "print('Upsampled F1 Score:', f1_score(y_test, upsampled_pred))\n",
    "print('Upsampled Accuracy score: ', accuracy_score(y_test, upsampled_pred))\n",
    "\n",
    "print('Downsampled F1 Score:', f1_score(y_test, downsampled_pred))\n",
    "print('Downsampled Accuracy score: ', accuracy_score(y_test, downsampled_pred))\n",
    "\n",
    "print('Tomek F1 score: ', f1_score(y_test, tomek_pred))\n",
    "print('Tomek Accuracy score: ', accuracy_score(y_test, tomek_pred))\n",
    "\n",
    "print ( 'SMOTE F1 Score: ', f1_score(y_test, smote_pred))\n",
    "print ('SMOTE Accuracy Score: ', accuracy_score(y_test, smote_pred))"
   ]
  },
  {
   "cell_type": "code",
   "execution_count": null,
   "metadata": {},
   "outputs": [],
   "source": []
  }
 ],
 "metadata": {
  "kernelspec": {
   "display_name": "Python 3",
   "language": "python",
   "name": "python3"
  },
  "language_info": {
   "codemirror_mode": {
    "name": "ipython",
    "version": 3
   },
   "file_extension": ".py",
   "mimetype": "text/x-python",
   "name": "python",
   "nbconvert_exporter": "python",
   "pygments_lexer": "ipython3",
   "version": "3.6.9"
  },
  "toc": {
   "base_numbering": 1,
   "nav_menu": {},
   "number_sections": true,
   "sideBar": true,
   "skip_h1_title": false,
   "title_cell": "Table of Contents",
   "title_sidebar": "Contents",
   "toc_cell": false,
   "toc_position": {},
   "toc_section_display": true,
   "toc_window_display": false
  }
 },
 "nbformat": 4,
 "nbformat_minor": 4
}
