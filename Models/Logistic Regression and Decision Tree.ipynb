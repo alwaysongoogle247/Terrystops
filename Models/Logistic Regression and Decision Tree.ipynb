{
 "cells": [
  {
   "cell_type": "code",
   "execution_count": 1,
   "metadata": {},
   "outputs": [],
   "source": [
    "import pandas as pd\n",
    "import numpy as np\n",
    "import seaborn as sns\n",
    "import matplotlib.pyplot as plt\n",
    "import pandas_profiling\n",
    "import plotly.offline as po\n",
    "import plotly.graph_objs as go\n",
    "from sklearn.linear_model import LogisticRegression\n",
    "from sklearn.model_selection import train_test_split\n",
    "import warnings\n",
    "from sklearn.tree import DecisionTreeClassifier\n",
    "from sklearn.metrics import classification_report, confusion_matrix\n",
    "from sklearn.metrics import accuracy_score\n",
    "%matplotlib inline\n",
    "\n",
    "pd.set_option('display.max_columns',100)\n",
    "pd.set_option('display.max_rows', 200)"
   ]
  },
  {
   "cell_type": "code",
   "execution_count": 2,
   "metadata": {},
   "outputs": [],
   "source": [
    "warnings.filterwarnings(\"ignore\", category=FutureWarning)"
   ]
  },
  {
   "cell_type": "code",
   "execution_count": 3,
   "metadata": {},
   "outputs": [],
   "source": [
    "df = pd.read_csv('Terry_Stops.csv')"
   ]
  },
  {
   "cell_type": "markdown",
   "metadata": {},
   "source": [
    "**Data Cleaning**"
   ]
  },
  {
   "cell_type": "code",
   "execution_count": 4,
   "metadata": {},
   "outputs": [],
   "source": [
    "df['Precinct'] = df['Precinct'].replace(['SouthWest','-'], ['Southwest','Not Specified']) \n",
    "df = df[df.Precinct != 'OOJ']\n",
    "df = df[df.Precinct != 'FK ERROR']\n",
    "df = df[df.Precinct != 'Unknown']\n",
    "\n",
    "df['Officer Race'] = df['Officer Race'].replace('Unknown', 'Not Specified')\n",
    "\n",
    "df['Subject Perceived Race'] = df['Subject Perceived Race'].replace(['-', 'Unknown'],['Not Specified', 'Not Specified'])\n",
    "df['Subject Perceived Gender'] = df['Subject Perceived Gender'].replace('-', 'Unknown')\n",
    "df['Subject Perceived Gender'] = df['Subject Perceived Gender'].replace('Unable to Determine', 'Gender Diverse (gender non-conforming and/or transgender)')\n",
    "\n",
    "df['Call Type'] = df['Call Type'].replace('-','NOT SPECIFIED')\n",
    "\n",
    "df['Year_of_Report'] = pd.to_datetime(df['Reported Date']).dt.year\n",
    "df['Year_of_Report'] = df['Year_of_Report'].astype(int)"
   ]
  },
  {
   "cell_type": "markdown",
   "metadata": {},
   "source": [
    "**First Feature Engineering**"
   ]
  },
  {
   "cell_type": "code",
   "execution_count": 5,
   "metadata": {},
   "outputs": [],
   "source": [
    "#Creating the feature Arrested\n",
    "df['Arrested'] = df['Stop Resolution'] == 'Arrest'\n",
    "df['Arrested'] = df['Arrested'].replace([True, False], [1,0])\n",
    "\n",
    "#Creating the feature White_Officer\n",
    "df['White_Officer'] = (df['Officer Race'] == 'White')\n",
    "df['White_Officer'] = df['White_Officer'].replace([True, False], [1,0])\n",
    "\n",
    "#Creating the features Subject_POC\n",
    "df['Subject_POC'] = df['Subject Perceived Race'] != 'White'\n",
    "df['Subject_POC'] = df['Subject_POC'].replace([True, False], [1,0])\n",
    "\n",
    "#Creating Hour, Morning, Afternoon, Evening and Night Features\n",
    "df['Hour'] = pd.to_datetime(df['Reported Time'], format='%H:%M:%S').dt.hour\n",
    "df['Hour'] = df['Hour'].replace(0,24)\n",
    "df['Morning'] = (df['Hour'] >= 5) & (df['Hour'] < 12)\n",
    "df['Morning'] = df['Morning'].replace([True,False], [1,0])\n",
    "df['Afternoon']= (df['Hour'] >= 12) & (df['Hour'] < 17)\n",
    "df['Afternoon'] = df['Afternoon'].replace([True,False], [1,0])\n",
    "df['Evening'] = (df['Hour'] >= 17) & (df['Hour'] < 21)\n",
    "df['Evening'] = df['Evening'].replace([True,False], [1,0])\n",
    "df['Night'] = (df['Hour'] >= 21) & (df['Hour'] <= 24)\n",
    "df['Night'] = df['Night'].replace([True,False], [1,0])\n",
    "\n",
    "#Creating under_17 feature\n",
    "df['under_17'] = df['Subject Age Group']=='1 - 17'\n",
    "df['under_17'] = df['under_17'].replace([True, False], [1,0])\n",
    "\n",
    "\n",
    "#Creating Officer Age Feature\n",
    "df['Officer_Age'] = df['Year_of_Report'] - df['Officer YOB']\n",
    "under_70 = df[df['Officer_Age']<= 70]\n",
    "df['Officer YOB'] = df['Officer YOB'].astype(int)\n",
    "mean_age = round(under_70['Officer_Age'].mean(), 0)\n",
    "df['Officer_Age'] = df['Officer_Age'].replace([120,119,121,118,116,117,115],[mean_age,mean_age,mean_age,mean_age,mean_age,mean_age,mean_age])\n",
    "\n",
    "#Creating weapon or not\n",
    "df['Weapon'] = df['Weapon Type'] != 'None'\n",
    "df['Weapon'] = df['Weapon'].replace([True,False],[1,0])"
   ]
  },
  {
   "cell_type": "code",
   "execution_count": 6,
   "metadata": {},
   "outputs": [],
   "source": [
    "arrest_race = ['Subject Perceived Race','Arrested']"
   ]
  },
  {
   "cell_type": "code",
   "execution_count": 7,
   "metadata": {},
   "outputs": [
    {
     "data": {
      "text/html": [
       "<div>\n",
       "<style scoped>\n",
       "    .dataframe tbody tr th:only-of-type {\n",
       "        vertical-align: middle;\n",
       "    }\n",
       "\n",
       "    .dataframe tbody tr th {\n",
       "        vertical-align: top;\n",
       "    }\n",
       "\n",
       "    .dataframe thead th {\n",
       "        text-align: right;\n",
       "    }\n",
       "</style>\n",
       "<table border=\"1\" class=\"dataframe\">\n",
       "  <thead>\n",
       "    <tr style=\"text-align: right;\">\n",
       "      <th></th>\n",
       "      <th>Subject Perceived Race</th>\n",
       "      <th>Arrested</th>\n",
       "    </tr>\n",
       "  </thead>\n",
       "  <tbody>\n",
       "    <tr>\n",
       "      <th>0</th>\n",
       "      <td>White</td>\n",
       "      <td>1</td>\n",
       "    </tr>\n",
       "    <tr>\n",
       "      <th>1</th>\n",
       "      <td>Not Specified</td>\n",
       "      <td>0</td>\n",
       "    </tr>\n",
       "    <tr>\n",
       "      <th>2</th>\n",
       "      <td>White</td>\n",
       "      <td>0</td>\n",
       "    </tr>\n",
       "    <tr>\n",
       "      <th>3</th>\n",
       "      <td>White</td>\n",
       "      <td>0</td>\n",
       "    </tr>\n",
       "    <tr>\n",
       "      <th>4</th>\n",
       "      <td>Black or African American</td>\n",
       "      <td>1</td>\n",
       "    </tr>\n",
       "    <tr>\n",
       "      <th>...</th>\n",
       "      <td>...</td>\n",
       "      <td>...</td>\n",
       "    </tr>\n",
       "    <tr>\n",
       "      <th>46300</th>\n",
       "      <td>Black or African American</td>\n",
       "      <td>0</td>\n",
       "    </tr>\n",
       "    <tr>\n",
       "      <th>46301</th>\n",
       "      <td>Black or African American</td>\n",
       "      <td>0</td>\n",
       "    </tr>\n",
       "    <tr>\n",
       "      <th>46302</th>\n",
       "      <td>Hispanic</td>\n",
       "      <td>0</td>\n",
       "    </tr>\n",
       "    <tr>\n",
       "      <th>46303</th>\n",
       "      <td>Black or African American</td>\n",
       "      <td>0</td>\n",
       "    </tr>\n",
       "    <tr>\n",
       "      <th>46304</th>\n",
       "      <td>Black or African American</td>\n",
       "      <td>0</td>\n",
       "    </tr>\n",
       "  </tbody>\n",
       "</table>\n",
       "<p>46054 rows × 2 columns</p>\n",
       "</div>"
      ],
      "text/plain": [
       "          Subject Perceived Race  Arrested\n",
       "0                          White         1\n",
       "1                  Not Specified         0\n",
       "2                          White         0\n",
       "3                          White         0\n",
       "4      Black or African American         1\n",
       "...                          ...       ...\n",
       "46300  Black or African American         0\n",
       "46301  Black or African American         0\n",
       "46302                   Hispanic         0\n",
       "46303  Black or African American         0\n",
       "46304  Black or African American         0\n",
       "\n",
       "[46054 rows x 2 columns]"
      ]
     },
     "execution_count": 7,
     "metadata": {},
     "output_type": "execute_result"
    }
   ],
   "source": [
    "race = df[arrest_race]\n",
    "race"
   ]
  },
  {
   "cell_type": "code",
   "execution_count": 8,
   "metadata": {},
   "outputs": [
    {
     "data": {
      "text/html": [
       "<div>\n",
       "<style scoped>\n",
       "    .dataframe tbody tr th:only-of-type {\n",
       "        vertical-align: middle;\n",
       "    }\n",
       "\n",
       "    .dataframe tbody tr th {\n",
       "        vertical-align: top;\n",
       "    }\n",
       "\n",
       "    .dataframe thead th {\n",
       "        text-align: right;\n",
       "    }\n",
       "</style>\n",
       "<table border=\"1\" class=\"dataframe\">\n",
       "  <thead>\n",
       "    <tr style=\"text-align: right;\">\n",
       "      <th></th>\n",
       "      <th>Arrested</th>\n",
       "    </tr>\n",
       "    <tr>\n",
       "      <th>Subject Perceived Race</th>\n",
       "      <th></th>\n",
       "    </tr>\n",
       "  </thead>\n",
       "  <tbody>\n",
       "    <tr>\n",
       "      <th>American Indian or Alaska Native</th>\n",
       "      <td>387</td>\n",
       "    </tr>\n",
       "    <tr>\n",
       "      <th>Asian</th>\n",
       "      <td>419</td>\n",
       "    </tr>\n",
       "    <tr>\n",
       "      <th>Black or African American</th>\n",
       "      <td>3809</td>\n",
       "    </tr>\n",
       "    <tr>\n",
       "      <th>Hispanic</th>\n",
       "      <td>398</td>\n",
       "    </tr>\n",
       "    <tr>\n",
       "      <th>Multi-Racial</th>\n",
       "      <td>162</td>\n",
       "    </tr>\n",
       "    <tr>\n",
       "      <th>Native Hawaiian or Other Pacific Islander</th>\n",
       "      <td>14</td>\n",
       "    </tr>\n",
       "    <tr>\n",
       "      <th>Not Specified</th>\n",
       "      <td>759</td>\n",
       "    </tr>\n",
       "    <tr>\n",
       "      <th>Other</th>\n",
       "      <td>40</td>\n",
       "    </tr>\n",
       "    <tr>\n",
       "      <th>White</th>\n",
       "      <td>5354</td>\n",
       "    </tr>\n",
       "  </tbody>\n",
       "</table>\n",
       "</div>"
      ],
      "text/plain": [
       "                                           Arrested\n",
       "Subject Perceived Race                             \n",
       "American Indian or Alaska Native                387\n",
       "Asian                                           419\n",
       "Black or African American                      3809\n",
       "Hispanic                                        398\n",
       "Multi-Racial                                    162\n",
       "Native Hawaiian or Other Pacific Islander        14\n",
       "Not Specified                                   759\n",
       "Other                                            40\n",
       "White                                          5354"
      ]
     },
     "execution_count": 8,
     "metadata": {},
     "output_type": "execute_result"
    }
   ],
   "source": [
    "race.groupby(['Subject Perceived Race']).sum()"
   ]
  },
  {
   "cell_type": "code",
   "execution_count": 9,
   "metadata": {},
   "outputs": [
    {
     "data": {
      "text/plain": [
       "(46054, 35)"
      ]
     },
     "execution_count": 9,
     "metadata": {},
     "output_type": "execute_result"
    }
   ],
   "source": [
    "df.shape"
   ]
  },
  {
   "cell_type": "code",
   "execution_count": 10,
   "metadata": {},
   "outputs": [],
   "source": [
    "dummy_df = pd.get_dummies(df, columns=['Subject Perceived Race','Stop Resolution',\n",
    "                                       'Officer Race'],drop_first=True)"
   ]
  },
  {
   "cell_type": "markdown",
   "metadata": {},
   "source": [
    "**Data Visualizations**"
   ]
  },
  {
   "cell_type": "code",
   "execution_count": 11,
   "metadata": {},
   "outputs": [
    {
     "data": {
      "image/png": "[encoded data removed]",
      "text/plain": [
       "<Figure size 432x288 with 1 Axes>"
      ]
     },
     "metadata": {
      "needs_background": "light"
     },
     "output_type": "display_data"
    }
   ],
   "source": [
    "size, scale = 100, 10\n",
    "\n",
    "df['Officer_Age'].plot.hist(grid=True, bins=20, rwidth=1,\n",
    "                   color='#607c8e')\n",
    "plt.title('Distribution of Officer Age')\n",
    "plt.xlabel('Officer Age')\n",
    "plt.ylabel('Quantity')\n",
    "plt.grid(axis='y', alpha=0.75)"
   ]
  },
  {
   "cell_type": "code",
   "execution_count": 12,
   "metadata": {},
   "outputs": [
    {
     "data": {
      "text/plain": [
       "Text(0.5, 1.0, 'Stop Resolutions')"
      ]
     },
     "execution_count": 12,
     "metadata": {},
     "output_type": "execute_result"
    },
    {
     "data": {
      "image/png": "[encoded data removed]",
      "text/plain": [
       "<Figure size 864x432 with 1 Axes>"
      ]
     },
     "metadata": {
      "needs_background": "light"
     },
     "output_type": "display_data"
    }
   ],
   "source": [
    "fig, ax = plt.subplots(figsize=(12,6))\n",
    "x = df['Stop Resolution'].value_counts().index\n",
    "y = df['Stop Resolution'].value_counts()\n",
    "\n",
    "sns.barplot(x=x, y=y, ax=ax, data=df)\n",
    "plt.xlabel(\"Stop Resolutions\", size=16)\n",
    "plt.ylabel(\"Population\", size=16)\n",
    "plt.title(\"Stop Resolutions\", size=24)"
   ]
  },
  {
   "cell_type": "code",
   "execution_count": 13,
   "metadata": {},
   "outputs": [
    {
     "data": {
      "text/plain": [
       "[[Text(0, 0, 'Not Arrested'), Text(1, 0, 'Arrested')]]"
      ]
     },
     "execution_count": 13,
     "metadata": {},
     "output_type": "execute_result"
    },
    {
     "data": {
      "image/png": "[encoded data removed]",
      "text/plain": [
       "<Figure size 864x432 with 1 Axes>"
      ]
     },
     "metadata": {
      "needs_background": "light"
     },
     "output_type": "display_data"
    }
   ],
   "source": [
    "figure, axis = plt.subplots(figsize=(12,6))\n",
    "\n",
    "sns.barplot(x=df['Arrested'].value_counts().index, y=df['Arrested'].value_counts())\n",
    "plt.xlabel(\"Arrested vs Not Arrested\", size=16)\n",
    "plt.ylabel(\"Quantity\", size=16)\n",
    "plt.title('Arrests Resulting from Terry Stops', size=24)\n",
    "axis.set(xticklabels=['Not Arrested','Arrested'])"
   ]
  },
  {
   "cell_type": "code",
   "execution_count": 14,
   "metadata": {},
   "outputs": [
    {
     "data": {
      "text/plain": [
       "Text(0.5, 1.0, 'Arrests Resulting from Terry Stops by Race')"
      ]
     },
     "execution_count": 14,
     "metadata": {},
     "output_type": "execute_result"
    },
    {
     "data": {
      "image/png": "[encoded data removed]",
      "text/plain": [
       "<Figure size 720x360 with 1 Axes>"
      ]
     },
     "metadata": {
      "needs_background": "light"
     },
     "output_type": "display_data"
    }
   ],
   "source": [
    "df.groupby([\"Subject Perceived Race\", \"Arrested\"]).size().unstack().plot(kind='bar', stacked=True, figsize=(10,5))\n",
    "plt.xlabel(\"Subject Perceived Race\", size=10)\n",
    "plt.ylabel(\"Quantity of Arrested vs Not Arrested\", size=10)\n",
    "plt.title('Arrests Resulting from Terry Stops by Race', size=24)"
   ]
  },
  {
   "cell_type": "code",
   "execution_count": 15,
   "metadata": {},
   "outputs": [
    {
     "data": {
      "text/plain": [
       "Text(0.5, 1.0, 'Stop Resolutions by Race')"
      ]
     },
     "execution_count": 15,
     "metadata": {},
     "output_type": "execute_result"
    },
    {
     "data": {
      "image/png": "[encoded data removed]",
      "text/plain": [
       "<Figure size 1008x648 with 1 Axes>"
      ]
     },
     "metadata": {
      "needs_background": "light"
     },
     "output_type": "display_data"
    }
   ],
   "source": [
    "df.groupby([\"Stop Resolution\", \"Subject Perceived Race\"]).size().unstack().plot(kind='bar', stacked=True, figsize=(14,9))\n",
    "plt.xlabel(\"Stop Resolutions\", size=18)\n",
    "plt.ylabel(\"Quantity of Race\", size=18)\n",
    "plt.title('Stop Resolutions by Race', size=24)"
   ]
  },
  {
   "cell_type": "markdown",
   "metadata": {},
   "source": [
    "## Modeling\n"
   ]
  },
  {
   "cell_type": "markdown",
   "metadata": {},
   "source": [
    "### Logistic Regression"
   ]
  },
  {
   "cell_type": "markdown",
   "metadata": {},
   "source": [
    "### Baseline"
   ]
  },
  {
   "cell_type": "code",
   "execution_count": 16,
   "metadata": {},
   "outputs": [],
   "source": [
    "features = ['Subject Perceived Race_Asian',\n",
    "       'Subject Perceived Race_Black or African American',\n",
    "       'Subject Perceived Race_Hispanic',\n",
    "       'Subject Perceived Race_Multi-Racial',\n",
    "       'Subject Perceived Race_Native Hawaiian or Other Pacific Islander',\n",
    "       'Subject Perceived Race_Not Specified', 'Subject Perceived Race_Other',\n",
    "       'Subject Perceived Race_White', 'Stop Resolution_Citation / Infraction',\n",
    "       'Stop Resolution_Field Contact', 'Stop Resolution_Offense Report',\n",
    "       'Stop Resolution_Referred for Prosecution', 'Officer Race_Asian',\n",
    "       'Officer Race_Black or African American',\n",
    "       'Officer Race_Hispanic or Latino',\n",
    "       'Officer Race_Nat Hawaiian/Oth Pac Islander',\n",
    "       'Officer Race_Not Specified', 'Officer Race_Two or More Races',\n",
    "       'Officer Race_White']"
   ]
  },
  {
   "cell_type": "code",
   "execution_count": 17,
   "metadata": {},
   "outputs": [],
   "source": [
    "x_dummy = dummy_df[features]\n",
    "y=df['Arrested']"
   ]
  },
  {
   "cell_type": "code",
   "execution_count": 18,
   "metadata": {},
   "outputs": [
    {
     "data": {
      "text/plain": [
       "1.0"
      ]
     },
     "execution_count": 18,
     "metadata": {},
     "output_type": "execute_result"
    }
   ],
   "source": [
    "X_train_dummy, X_test_dummy, y_train_dummy, y_test_dummy = train_test_split(x_dummy,y, test_size = 0.3, random_state = 0)\n",
    "logreg = LogisticRegression().fit(X_train_dummy,y_train_dummy)\n",
    "y_pred = logreg.predict(X_test_dummy)\n",
    "accuracy_score(y_pred, y_test_dummy)"
   ]
  },
  {
   "cell_type": "code",
   "execution_count": 19,
   "metadata": {},
   "outputs": [
    {
     "name": "stdout",
     "output_type": "stream",
     "text": [
      "1.0\n"
     ]
    }
   ],
   "source": [
    "# experiment with random foorest\n",
    "from sklearn.ensemble import RandomForestClassifier\n",
    "rf = RandomForestClassifier()\n",
    "rf.fit(X_train_dummy, y_train_dummy)\n",
    "pred = rf.predict(X_test_dummy)\n",
    "print(accuracy_score(pred, y_test_dummy))"
   ]
  },
  {
   "cell_type": "code",
   "execution_count": 20,
   "metadata": {
    "scrolled": true
   },
   "outputs": [
    {
     "name": "stdout",
     "output_type": "stream",
     "text": [
      "feature:0, score: 0.00018\n",
      "feature:1, score: 0.00160\n",
      "feature:2, score: 0.00011\n",
      "feature:3, score: 0.00026\n",
      "feature:4, score: 0.00003\n",
      "feature:5, score: 0.00249\n",
      "feature:6, score: 0.00006\n",
      "feature:7, score: 0.00084\n",
      "feature:8, score: 0.00928\n",
      "feature:9, score: 0.51061\n",
      "feature:10, score: 0.43025\n",
      "feature:11, score: 0.04285\n",
      "feature:12, score: 0.00017\n",
      "feature:13, score: 0.00018\n",
      "feature:14, score: 0.00036\n",
      "feature:15, score: 0.00019\n",
      "feature:16, score: 0.00010\n",
      "feature:17, score: 0.00031\n",
      "feature:18, score: 0.00014\n"
     ]
    },
    {
     "data": {
      "image/png": "[encoded data removed]",
      "text/plain": [
       "<Figure size 432x288 with 1 Axes>"
      ]
     },
     "metadata": {
      "needs_background": "light"
     },
     "output_type": "display_data"
    }
   ],
   "source": [
    "importance = rf.feature_importances_\n",
    "for i,v in enumerate(importance):\n",
    "    print('feature:%0d, score: %.5f' %(i,v))\n",
    "    \n",
    "plt.bar([x for x in range(len(importance))], importance)\n",
    "plt.show()"
   ]
  },
  {
   "cell_type": "code",
   "execution_count": 21,
   "metadata": {},
   "outputs": [
    {
     "data": {
      "text/plain": [
       "Index(['Stop Resolution_Field Contact', 'Stop Resolution_Offense Report'], dtype='object')"
      ]
     },
     "execution_count": 21,
     "metadata": {},
     "output_type": "execute_result"
    }
   ],
   "source": [
    "X_train_dummy.columns[9:11]"
   ]
  },
  {
   "cell_type": "code",
   "execution_count": 22,
   "metadata": {},
   "outputs": [],
   "source": [
    "features2 = ['Subject Perceived Race_Asian',\n",
    "       'Subject Perceived Race_Black or African American',\n",
    "       'Subject Perceived Race_Hispanic',\n",
    "       'Subject Perceived Race_Multi-Racial',\n",
    "       'Subject Perceived Race_Native Hawaiian or Other Pacific Islander',\n",
    "       'Subject Perceived Race_Not Specified', 'Subject Perceived Race_Other',\n",
    "       'Subject Perceived Race_White', 'Stop Resolution_Citation / Infraction',\n",
    "       'Stop Resolution_Referred for Prosecution', 'Officer Race_Asian',\n",
    "       'Officer Race_Black or African American',\n",
    "       'Officer Race_Hispanic or Latino',\n",
    "       'Officer Race_Nat Hawaiian/Oth Pac Islander',\n",
    "       'Officer Race_Not Specified', 'Officer Race_Two or More Races',\n",
    "       'Officer Race_White']"
   ]
  },
  {
   "cell_type": "code",
   "execution_count": 23,
   "metadata": {},
   "outputs": [],
   "source": [
    "x2_dummy = dummy_df[features2]"
   ]
  },
  {
   "cell_type": "code",
   "execution_count": 24,
   "metadata": {},
   "outputs": [
    {
     "data": {
      "text/plain": [
       "0.7539263226460158"
      ]
     },
     "execution_count": 24,
     "metadata": {},
     "output_type": "execute_result"
    }
   ],
   "source": [
    "X2_train_dummy, X2_test_dummy, y2_train_dummy, y2_test_dummy = train_test_split(x2_dummy,y, test_size = 0.3, random_state = 0)\n",
    "logreg2 = LogisticRegression().fit(X2_train_dummy,y2_train_dummy)\n",
    "y_pred2 = logreg2.predict(X2_test_dummy)\n",
    "accuracy_score(y_pred2, y2_test_dummy)"
   ]
  },
  {
   "cell_type": "code",
   "execution_count": 25,
   "metadata": {},
   "outputs": [
    {
     "name": "stdout",
     "output_type": "stream",
     "text": [
      "Null model of probability of being arrested is 0.3489583333333333\n",
      "The odds of being arrested is 0.53599999213568\n",
      "the logged odds of being arrested is [-1.09042788]\n"
     ]
    }
   ],
   "source": [
    "logged_odds = logreg2.intercept_\n",
    "odds = np.exp(logged_odds)\n",
    "probability = (odds/(1+odds))\n",
    "print(\"Null model of probability of being arrested is\" + \" \"+ str(268/(268+500)))\n",
    "print(\"The odds of being arrested is\" + \" \" + str(0.34895833/(1-0.34895833)))\n",
    "print(\"the logged odds of being arrested is\" + \" \" + str(np.log(odds)))"
   ]
  },
  {
   "cell_type": "code",
   "execution_count": 26,
   "metadata": {},
   "outputs": [
    {
     "name": "stdout",
     "output_type": "stream",
     "text": [
      "[[ 0.00455007 -0.01633565 -0.27892236 -0.46133079 -0.06820233 -0.63470826\n",
      "  -0.25010732 -0.2631748  -2.68999346 -3.81227325  0.11862576 -0.10053129\n",
      "   0.11534603 -0.19244385  0.203284    0.27139679  0.2279069 ]]\n",
      "[-1.09042788]\n"
     ]
    }
   ],
   "source": [
    "print(logreg2.coef_)\n",
    "print(logreg2.intercept_)"
   ]
  },
  {
   "cell_type": "markdown",
   "metadata": {},
   "source": [
    "### Updated Model Logreg"
   ]
  },
  {
   "cell_type": "code",
   "execution_count": 27,
   "metadata": {},
   "outputs": [],
   "source": [
    "both_dfdummy = pd.concat([df, dummy_df], axis=1)"
   ]
  },
  {
   "cell_type": "code",
   "execution_count": 53,
   "metadata": {},
   "outputs": [],
   "source": [
    "features2 = ['Subject Perceived Race_Asian',\n",
    "             'Subject Perceived Race_Black or African American',\n",
    "             'Subject Perceived Race_Hispanic',\n",
    "             'Subject Perceived Race_Multi-Racial',\n",
    "             'Subject Perceived Race_Native Hawaiian or Other Pacific Islander',\n",
    "             'Subject Perceived Race_Not Specified', 'Subject Perceived Race_Other',\n",
    "             'Subject Perceived Race_White', 'Stop Resolution_Citation / Infraction',\n",
    "             'Stop Resolution_Referred for Prosecution', 'Officer Race_Asian',\n",
    "             'Officer Race_Black or African American',\n",
    "             'Officer Race_Hispanic or Latino',\n",
    "             'Officer Race_Nat Hawaiian/Oth Pac Islander',\n",
    "             'Officer Race_Not Specified', 'Officer Race_Two or More Races',\n",
    "             'Officer Race_White','Weapon','White_Officer', 'under_17',\n",
    "             'Morning', 'Afternoon', 'Evening', 'Night']"
   ]
  },
  {
   "cell_type": "code",
   "execution_count": 54,
   "metadata": {},
   "outputs": [],
   "source": [
    "x_both = both_dfdummy[features2]"
   ]
  },
  {
   "cell_type": "code",
   "execution_count": 55,
   "metadata": {},
   "outputs": [
    {
     "data": {
      "text/plain": [
       "0.7539263226460158"
      ]
     },
     "execution_count": 55,
     "metadata": {},
     "output_type": "execute_result"
    }
   ],
   "source": [
    "#Train test split\n",
    "X_train_both, X_test_both, y_train_both, y_test_both = train_test_split(x_both,y, test_size = 0.3, random_state = 0)\n",
    "logreg3 = LogisticRegression(class_weight='balanced').fit(X_test_both,y_test_both)\n",
    "y_pred3 = logreg3.predict(X_test_both)\n",
    "accuracy_score(y_pred2, y2_test_dummy)"
   ]
  },
  {
   "cell_type": "code",
   "execution_count": 56,
   "metadata": {},
   "outputs": [
    {
     "name": "stdout",
     "output_type": "stream",
     "text": [
      "0.7516827097054354\n"
     ]
    }
   ],
   "source": [
    "from sklearn.ensemble import RandomForestClassifier\n",
    "rf = RandomForestClassifier()\n",
    "rf.fit(X_train_both, y_train_both)\n",
    "pred = rf.predict(X_test_both)\n",
    "print(accuracy_score(pred, y_test_both))"
   ]
  },
  {
   "cell_type": "code",
   "execution_count": 57,
   "metadata": {},
   "outputs": [
    {
     "name": "stdout",
     "output_type": "stream",
     "text": [
      "feature:0, score: 0.04058\n",
      "feature:1, score: 0.05985\n",
      "feature:2, score: 0.04380\n",
      "feature:3, score: 0.02493\n",
      "feature:4, score: 0.00576\n",
      "feature:5, score: 0.08308\n",
      "feature:6, score: 0.01078\n",
      "feature:7, score: 0.04901\n",
      "feature:8, score: 0.01974\n",
      "feature:9, score: 0.07615\n",
      "feature:10, score: 0.03369\n",
      "feature:11, score: 0.03057\n",
      "feature:12, score: 0.03593\n",
      "feature:13, score: 0.02556\n",
      "feature:14, score: 0.03336\n",
      "feature:15, score: 0.04205\n",
      "feature:16, score: 0.00868\n",
      "feature:17, score: 0.06173\n",
      "feature:18, score: 0.08682\n",
      "feature:19, score: 0.01159\n",
      "feature:20, score: 0.01205\n",
      "feature:21, score: 0.02258\n",
      "feature:22, score: 0.02535\n",
      "feature:23, score: 0.02191\n",
      "feature:24, score: 0.01680\n",
      "feature:25, score: 0.02039\n",
      "feature:26, score: 0.01950\n",
      "feature:27, score: 0.02105\n",
      "feature:28, score: 0.01710\n",
      "feature:29, score: 0.01729\n",
      "feature:30, score: 0.02232\n"
     ]
    },
    {
     "data": {
      "image/png": "[encoded data removed]",
      "text/plain": [
       "<Figure size 432x288 with 1 Axes>"
      ]
     },
     "metadata": {
      "needs_background": "light"
     },
     "output_type": "display_data"
    }
   ],
   "source": [
    "importance2 = rf.feature_importances_\n",
    "for i,v in enumerate(importance2):\n",
    "    print('feature:%0d, score: %.5f' %(i,v))\n",
    "    \n",
    "plt.bar([x for x in range(len(importance2))], importance2)\n",
    "plt.show()"
   ]
  },
  {
   "cell_type": "code",
   "execution_count": 58,
   "metadata": {},
   "outputs": [
    {
     "data": {
      "text/plain": [
       "Index(['Subject Perceived Race_Asian',\n",
       "       'Subject Perceived Race_Black or African American',\n",
       "       'Subject Perceived Race_Hispanic',\n",
       "       'Subject Perceived Race_Multi-Racial',\n",
       "       'Subject Perceived Race_Native Hawaiian or Other Pacific Islander',\n",
       "       'Subject Perceived Race_Not Specified', 'Subject Perceived Race_Other',\n",
       "       'Subject Perceived Race_White', 'Stop Resolution_Citation / Infraction',\n",
       "       'Stop Resolution_Referred for Prosecution', 'Officer Race_Asian',\n",
       "       'Officer Race_Black or African American',\n",
       "       'Officer Race_Hispanic or Latino',\n",
       "       'Officer Race_Nat Hawaiian/Oth Pac Islander',\n",
       "       'Officer Race_Not Specified', 'Officer Race_Two or More Races',\n",
       "       'Officer Race_White', 'Weapon', 'Weapon', 'White_Officer',\n",
       "       'White_Officer', 'under_17', 'under_17', 'Morning', 'Morning',\n",
       "       'Afternoon', 'Afternoon', 'Evening', 'Evening', 'Night', 'Night'],\n",
       "      dtype='object')"
      ]
     },
     "execution_count": 58,
     "metadata": {},
     "output_type": "execute_result"
    }
   ],
   "source": [
    "X_test_both.columns"
   ]
  },
  {
   "cell_type": "code",
   "execution_count": 59,
   "metadata": {},
   "outputs": [
    {
     "name": "stdout",
     "output_type": "stream",
     "text": [
      "Null model of probability of being arrested is 0.3489583333333333\n",
      "The odds of being arrested is 0.53599999213568\n",
      "the logged odds of being arrested is [0.34660285]\n"
     ]
    }
   ],
   "source": [
    "logged_odds2 = logreg3.intercept_\n",
    "odds2 = np.exp(logged_odds2)\n",
    "probability2 = (odds2/(1+odds2))\n",
    "print(\"Null model of probability of being arrested is\" + \" \"+ str(268/(268+500)))\n",
    "print(\"The odds of being arrested is\" + \" \" + str(0.34895833/(1-0.34895833)))\n",
    "print(\"the logged odds of being arrested is\" + \" \" + str(np.log(odds2)))"
   ]
  },
  {
   "cell_type": "code",
   "execution_count": 60,
   "metadata": {},
   "outputs": [
    {
     "name": "stdout",
     "output_type": "stream",
     "text": [
      "[[-0.20026588 -0.19275255 -0.14497374 -0.40204687 -0.14779906 -0.8782136\n",
      "   0.2012332  -0.32955863 -2.51345708 -3.65090036 -0.28134175 -0.36419584\n",
      "  -0.08250375 -0.27590648 -0.15483795 -0.08426213 -0.02264938  0.17806151\n",
      "   0.17806151 -0.02264938 -0.02264938 -0.08908376 -0.08908376  0.01496819\n",
      "   0.01496819 -0.03645846 -0.03645846 -0.01347745 -0.01347745 -0.02338408\n",
      "  -0.02338408]]\n",
      "[0.34660285]\n"
     ]
    }
   ],
   "source": [
    "print(logreg3.coef_)\n",
    "print(logreg3.intercept_)"
   ]
  },
  {
   "cell_type": "markdown",
   "metadata": {},
   "source": [
    "### Decision Tree"
   ]
  },
  {
   "cell_type": "code",
   "execution_count": 36,
   "metadata": {},
   "outputs": [],
   "source": [
    "X_train_dt, X_test_dt, y_train_dt, y_test_dt = train_test_split(x_both, y, test_size=0.30, random_state=0)"
   ]
  },
  {
   "cell_type": "code",
   "execution_count": 37,
   "metadata": {},
   "outputs": [
    {
     "data": {
      "text/plain": [
       "DecisionTreeClassifier(class_weight=None, criterion='gini', max_depth=None,\n",
       "                       max_features=None, max_leaf_nodes=None,\n",
       "                       min_impurity_decrease=0.0, min_impurity_split=None,\n",
       "                       min_samples_leaf=1, min_samples_split=2,\n",
       "                       min_weight_fraction_leaf=0.0, presort=False,\n",
       "                       random_state=None, splitter='best')"
      ]
     },
     "execution_count": 37,
     "metadata": {},
     "output_type": "execute_result"
    }
   ],
   "source": [
    "classifier = DecisionTreeClassifier()\n",
    "classifier.fit(X_train_dt, y_train_dt)"
   ]
  },
  {
   "cell_type": "code",
   "execution_count": 38,
   "metadata": {},
   "outputs": [
    {
     "data": {
      "text/plain": [
       "0.7330100600709272"
      ]
     },
     "execution_count": 38,
     "metadata": {},
     "output_type": "execute_result"
    }
   ],
   "source": [
    "y_pred_dt = classifier.predict(X_test_dt)\n",
    "accuracy_score(y_pred_dt, y_test_dt)"
   ]
  },
  {
   "cell_type": "markdown",
   "metadata": {},
   "source": [
    "**Model Evaluation**"
   ]
  },
  {
   "cell_type": "code",
   "execution_count": 39,
   "metadata": {},
   "outputs": [
    {
     "name": "stdout",
     "output_type": "stream",
     "text": [
      "[[9796  621]\n",
      " [3068  332]]\n",
      "              precision    recall  f1-score   support\n",
      "\n",
      "           0       0.76      0.94      0.84     10417\n",
      "           1       0.35      0.10      0.15      3400\n",
      "\n",
      "    accuracy                           0.73     13817\n",
      "   macro avg       0.55      0.52      0.50     13817\n",
      "weighted avg       0.66      0.73      0.67     13817\n",
      "\n"
     ]
    }
   ],
   "source": [
    "dt_cm = confusion_matrix(y_test_dt, y_pred_dt)\n",
    "print(dt_cm)\n",
    "print(classification_report(y_test_dt, y_pred_dt))"
   ]
  },
  {
   "cell_type": "code",
   "execution_count": 75,
   "metadata": {},
   "outputs": [
    {
     "data": {
      "text/plain": [
       "Text(0.5, 1.0, 'Desicion Tree Confusion Matrix')"
      ]
     },
     "execution_count": 75,
     "metadata": {},
     "output_type": "execute_result"
    },
    {
     "data": {
      "image/png": "[encoded data removed]",
      "text/plain": [
       "<Figure size 432x288 with 2 Axes>"
      ]
     },
     "metadata": {
      "needs_background": "light"
     },
     "output_type": "display_data"
    }
   ],
   "source": [
    "categories = ['Not Arrested','Arrested']\n",
    "sns.heatmap(dt_cm/np.sum(dt_cm), annot=True, \n",
    "            fmt='.2%', cmap='Blues', xticklabels=categories, yticklabels=categories)\n",
    "plt.xlabel(\"Predicted\",size=15, loc='center')\n",
    "plt.ylabel(\"Actual\",size=15, loc='center')\n",
    "plt.title('Desicion Tree Confusion Matrix',size=20)"
   ]
  },
  {
   "cell_type": "code",
   "execution_count": 62,
   "metadata": {},
   "outputs": [
    {
     "name": "stdout",
     "output_type": "stream",
     "text": [
      "[[5780 4637]\n",
      " [1481 1919]]\n",
      "              precision    recall  f1-score   support\n",
      "\n",
      "           0       0.80      0.55      0.65     10417\n",
      "           1       0.29      0.56      0.39      3400\n",
      "\n",
      "    accuracy                           0.56     13817\n",
      "   macro avg       0.54      0.56      0.52     13817\n",
      "weighted avg       0.67      0.56      0.59     13817\n",
      "\n"
     ]
    }
   ],
   "source": [
    "lr_cm = confusion_matrix(y_test_both, y_pred3)\n",
    "print(lr_cm)\n",
    "print(classification_report(y_test_both, y_pred3))"
   ]
  },
  {
   "cell_type": "code",
   "execution_count": 71,
   "metadata": {},
   "outputs": [
    {
     "data": {
      "text/plain": [
       "Text(0.5, 1.0, 'LogReg Confusion Matrix')"
      ]
     },
     "execution_count": 71,
     "metadata": {},
     "output_type": "execute_result"
    },
    {
     "data": {
      "image/png": "[encoded data removed]",
      "text/plain": [
       "<Figure size 432x288 with 2 Axes>"
      ]
     },
     "metadata": {
      "needs_background": "light"
     },
     "output_type": "display_data"
    }
   ],
   "source": [
    "categories = ['Not Arrested','Arrested']\n",
    "sns.heatmap(lr_cm/np.sum(lr_cm), annot=True, \n",
    "            fmt='.2%', cmap='Blues', xticklabels=categories, yticklabels=categories)\n",
    "\n",
    "plt.xlabel(\"Predicted\",size=15)\n",
    "plt.ylabel(\"Actual\",size=15)\n",
    "plt.title('LogReg Confusion Matrix',size=20)"
   ]
  }
 ],
 "metadata": {
  "kernelspec": {
   "display_name": "Python 3",
   "language": "python",
   "name": "python3"
  },
  "language_info": {
   "codemirror_mode": {
    "name": "ipython",
    "version": 3
   },
   "file_extension": ".py",
   "mimetype": "text/x-python",
   "name": "python",
   "nbconvert_exporter": "python",
   "pygments_lexer": "ipython3",
   "version": "3.6.9"
  },
  "toc": {
   "base_numbering": 1,
   "nav_menu": {},
   "number_sections": true,
   "sideBar": true,
   "skip_h1_title": false,
   "title_cell": "Table of Contents",
   "title_sidebar": "Contents",
   "toc_cell": false,
   "toc_position": {},
   "toc_section_display": true,
   "toc_window_display": false
  }
 },
 "nbformat": 4,
 "nbformat_minor": 4
}
