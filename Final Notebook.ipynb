{
 "cells": [
  {
   "cell_type": "markdown",
   "metadata": {},
   "source": [
    "### Importing Data and Necessary Packages"
   ]
  },
  {
   "cell_type": "code",
   "execution_count": 40,
   "metadata": {},
   "outputs": [],
   "source": [
    "#For EDA\n",
    "import pandas as pd\n",
    "import numpy as np\n",
    "pd.set_option('display.max_columns',100)\n",
    "pd.set_option('display.max_rows', 200)\n",
    "import pandas_profiling\n",
    "\n",
    "#For Data Visualizations\n",
    "import seaborn as sns\n",
    "import matplotlib.pyplot as plt\n",
    "import plotly.offline as po\n",
    "import plotly.graph_objs as go\n",
    "%matplotlib inline\n",
    "\n",
    "#Data Pre-Processing\n",
    "from sklearn.model_selection import train_test_split\n",
    "from imblearn.over_sampling import SMOTE\n",
    "from collections import Counter\n",
    "from imblearn.under_sampling import TomekLinks\n",
    "from sklearn.utils import resample\n",
    "\n",
    "#For Modeling \n",
    "from sklearn.linear_model import LogisticRegression\n",
    "from sklearn.neighbors import KNeighborsClassifier\n",
    "from sklearn.tree import DecisionTreeClassifier\n",
    "\n",
    "#For Model Evaluation \n",
    "from sklearn.metrics import classification_report, confusion_matrix\n",
    "from sklearn.metrics import f1_score\n",
    "from sklearn.metrics import accuracy_score\n",
    "from sklearn.metrics import precision_score\n",
    "from sklearn.metrics import recall_score\n",
    "\n",
    "\n"
   ]
  },
  {
   "cell_type": "code",
   "execution_count": 41,
   "metadata": {},
   "outputs": [],
   "source": [
    "#Importing Data\n",
    "df = pd.read_csv('Terry_Stops.csv')"
   ]
  },
  {
   "cell_type": "markdown",
   "metadata": {},
   "source": [
    "## Data Cleaning "
   ]
  },
  {
   "cell_type": "code",
   "execution_count": 42,
   "metadata": {},
   "outputs": [],
   "source": [
    "#Combining 'SouthWest' to 'Southwest' and turning '-' into 'Not Specified' \n",
    "df['Precinct'] = df['Precinct'].replace(['SouthWest','-'], ['Southwest','Not Specified']) \n",
    "df = df[df.Precinct != 'OOJ']\n",
    "df = df[df.Precinct != 'FK ERROR']\n",
    "df = df[df.Precinct != 'Unknown']\n",
    "\n",
    "#Changed 'Unknown' to 'Not Specified'\n",
    "df['Officer Race'] = df['Officer Race'].replace('Unknown', 'Not Specified')\n",
    "\n",
    "#Changed '-' and 'Unknown' into 'Not Specified'\n",
    "df['Subject Perceived Race'] = df['Subject Perceived Race'].replace(['-', 'Unknown'],['Not Specified', 'Not Specified'])\n",
    "\n",
    "#Changed '-' to 'Unknown' and 'Unable to Determine' into 'gender diverse...'\n",
    "df['Subject Perceived Gender'] = df['Subject Perceived Gender'].replace('-', 'Unknown')\n",
    "df['Subject Perceived Gender'] = df['Subject Perceived Gender'].replace('Unable to Determine', 'Gender Diverse (gender non-conforming and/or transgender)')\n",
    "\n",
    "\n",
    "#Replaced '-' to 'NOT SPECIFIED'\n",
    "df['Call Type'] = df['Call Type'].replace('-','NOT SPECIFIED')\n",
    "df['Year_of_Report'] = pd.to_datetime(df['Reported Date']).dt.year\n",
    "df['Year_of_Report'] = df['Year_of_Report'].astype(int)"
   ]
  },
  {
   "cell_type": "markdown",
   "metadata": {},
   "source": [
    "## Feature Engineering "
   ]
  },
  {
   "cell_type": "code",
   "execution_count": 43,
   "metadata": {},
   "outputs": [],
   "source": [
    "#Creating the feature Arrested\n",
    "df['Arrested'] = df['Stop Resolution'] == 'Arrest'\n",
    "df['Arrested'] = df['Arrested'].replace([True, False], [1,0])\n",
    "\n",
    "#Creating the feature White_Officer\n",
    "df['White_Officer'] = (df['Officer Race'] == 'White')\n",
    "df['White_Officer'] = df['White_Officer'].replace([True, False], [1,0])\n",
    "\n",
    "#Creating the features Subject_POC\n",
    "df['Subject_POC'] = df['Subject Perceived Race'] != 'White'\n",
    "df['Subject_POC'] = df['Subject_POC'].replace([True, False], [1,0])\n",
    "\n",
    "#Creating Hour, Morning, Afternoon, Evening and Night Features\n",
    "df['Hour'] = pd.to_datetime(df['Reported Time'], format='%H:%M:%S').dt.hour\n",
    "df['Hour'] = df['Hour'].replace(0,24)\n",
    "df['Morning'] = (df['Hour'] >= 5) & (df['Hour'] < 12)\n",
    "df['Morning'] = df['Morning'].replace([True,False], [1,0])\n",
    "df['Afternoon']= (df['Hour'] >= 12) & (df['Hour'] < 17)\n",
    "df['Afternoon'] = df['Afternoon'].replace([True,False], [1,0])\n",
    "df['Evening'] = (df['Hour'] >= 17) & (df['Hour'] < 21)\n",
    "df['Evening'] = df['Evening'].replace([True,False], [1,0])\n",
    "df['Night'] = (df['Hour'] >= 21) & (df['Hour'] <= 24)\n",
    "df['Night'] = df['Night'].replace([True,False], [1,0])\n",
    "\n",
    "#Creating under_17 feature\n",
    "df['under_17'] = df['Subject Age Group']=='1 - 17'\n",
    "df['under_17'] = df['under_17'].replace([True, False], [1,0])\n",
    "\n",
    "\n",
    "#Creating Officer Age Feature\n",
    "df['Officer_Age'] = df['Year_of_Report'] - df['Officer YOB']\n",
    "under_70 = df[df['Officer_Age']<= 70]\n",
    "df['Officer YOB'] = df['Officer YOB'].astype(int)\n",
    "mean_age = round(under_70['Officer_Age'].mean(), 0)\n",
    "df['Officer_Age'] = df['Officer_Age'].replace([120,119,121,118,116,117,115],[mean_age,mean_age,mean_age,mean_age,mean_age,mean_age,mean_age])\n",
    "\n",
    "dummy_df = pd.get_dummies(df, columns=['Subject Perceived Race','Stop Resolution',\n",
    "                                       'Officer Race'],drop_first=True)"
   ]
  },
  {
   "cell_type": "markdown",
   "metadata": {},
   "source": [
    "## Data Visualizations "
   ]
  },
  {
   "cell_type": "code",
   "execution_count": 44,
   "metadata": {},
   "outputs": [
    {
     "data": {
      "image/png": "[encoded data removed]",
      "text/plain": [
       "<Figure size 432x288 with 1 Axes>"
      ]
     },
     "metadata": {
      "needs_background": "light"
     },
     "output_type": "display_data"
    }
   ],
   "source": [
    "#Shows the distribution of Officer Age \n",
    "size, scale = 100, 10\n",
    "\n",
    "df['Officer_Age'].plot.hist(grid=True, bins=20, rwidth=1,\n",
    "                   color='#607c8e')\n",
    "plt.title('Distribution of Officer Age')\n",
    "plt.xlabel('Officer Age')\n",
    "plt.ylabel('Quantity')\n",
    "plt.grid(axis='y', alpha=0.75)"
   ]
  },
  {
   "cell_type": "code",
   "execution_count": 45,
   "metadata": {},
   "outputs": [
    {
     "data": {
      "text/plain": [
       "Text(0.5, 1.0, 'Stop Resolutions')"
      ]
     },
     "execution_count": 45,
     "metadata": {},
     "output_type": "execute_result"
    },
    {
     "data": {
      "image/png": "[encoded data removed]",
      "text/plain": [
       "<Figure size 864x432 with 1 Axes>"
      ]
     },
     "metadata": {
      "needs_background": "light"
     },
     "output_type": "display_data"
    }
   ],
   "source": [
    "fig, ax = plt.subplots(figsize=(12,6))\n",
    "x = df['Stop Resolution'].value_counts().index\n",
    "y = df['Stop Resolution'].value_counts()\n",
    "\n",
    "sns.barplot(x=x, y=y, ax=ax, data=df)\n",
    "plt.xlabel(\"Stop Resolutions\", size=16)\n",
    "plt.ylabel(\"Population\", size=16)\n",
    "plt.title(\"Stop Resolutions\", size=24)"
   ]
  },
  {
   "cell_type": "code",
   "execution_count": 46,
   "metadata": {},
   "outputs": [
    {
     "data": {
      "text/plain": [
       "[[Text(0, 0, 'Not Arrested'), Text(1, 0, 'Arrested')]]"
      ]
     },
     "execution_count": 46,
     "metadata": {},
     "output_type": "execute_result"
    },
    {
     "data": {
      "image/png": "[encoded data removed]",
      "text/plain": [
       "<Figure size 864x432 with 1 Axes>"
      ]
     },
     "metadata": {
      "needs_background": "light"
     },
     "output_type": "display_data"
    }
   ],
   "source": [
    "figure, axis = plt.subplots(figsize=(12,6))\n",
    "\n",
    "sns.barplot(x=df['Arrested'].value_counts().index, y=df['Arrested'].value_counts())\n",
    "plt.xlabel(\"Arrested vs Not Arrested\", size=16)\n",
    "plt.ylabel(\"Quantity\", size=16)\n",
    "plt.title('Arrests Resulting from Terry Stops', size=24)\n",
    "axis.set(xticklabels=['Not Arrested','Arrested'])"
   ]
  },
  {
   "cell_type": "code",
   "execution_count": 47,
   "metadata": {},
   "outputs": [
    {
     "data": {
      "text/plain": [
       "Text(0.5, 1.0, 'Arrests Resulting from Terry Stops by Race')"
      ]
     },
     "execution_count": 47,
     "metadata": {},
     "output_type": "execute_result"
    },
    {
     "data": {
      "image/png": "[encoded data removed]",
      "text/plain": [
       "<Figure size 720x360 with 1 Axes>"
      ]
     },
     "metadata": {
      "needs_background": "light"
     },
     "output_type": "display_data"
    }
   ],
   "source": [
    "df.groupby([\"Subject Perceived Race\", \"Arrested\"]).size().unstack().plot(kind='bar', stacked=True, figsize=(10,5))\n",
    "plt.xlabel(\"Subject Perceived Race\", size=10)\n",
    "plt.ylabel(\"Quantity of Arrested vs Not Arrested\", size=10)\n",
    "plt.title('Arrests Resulting from Terry Stops by Race', size=24)"
   ]
  },
  {
   "cell_type": "code",
   "execution_count": 48,
   "metadata": {},
   "outputs": [
    {
     "data": {
      "text/plain": [
       "Text(0.5, 1.0, 'Stop Resolutions by Race')"
      ]
     },
     "execution_count": 48,
     "metadata": {},
     "output_type": "execute_result"
    },
    {
     "data": {
      "image/png": "[encoded data removed]",
      "text/plain": [
       "<Figure size 1008x648 with 1 Axes>"
      ]
     },
     "metadata": {
      "needs_background": "light"
     },
     "output_type": "display_data"
    }
   ],
   "source": [
    "df.groupby([\"Stop Resolution\", \"Subject Perceived Race\"]).size().unstack().plot(kind='bar', stacked=True, figsize=(14,9))\n",
    "plt.xlabel(\"Stop Resolutions\", size=18)\n",
    "plt.ylabel(\"Quantity of Race\", size=18)\n",
    "plt.title('Stop Resolutions by Race', size=24)"
   ]
  },
  {
   "cell_type": "code",
   "execution_count": 51,
   "metadata": {},
   "outputs": [],
   "source": [
    "#X_train, X_test, y_train, y_test = train_test_split(X,y, test_size = 0.2, random_state = 0)"
   ]
  },
  {
   "cell_type": "markdown",
   "metadata": {},
   "source": [
    "----------------------------------------"
   ]
  },
  {
   "cell_type": "markdown",
   "metadata": {},
   "source": [
    "## Modeling and Evaluation"
   ]
  },
  {
   "cell_type": "markdown",
   "metadata": {},
   "source": [
    "### Logistic Regression: Baseline "
   ]
  },
  {
   "cell_type": "code",
   "execution_count": 66,
   "metadata": {},
   "outputs": [],
   "source": [
    "features = ['Subject Perceived Race_Asian',\n",
    "       'Subject Perceived Race_Black or African American',\n",
    "       'Subject Perceived Race_Hispanic',\n",
    "       'Subject Perceived Race_Multi-Racial',\n",
    "       'Subject Perceived Race_Native Hawaiian or Other Pacific Islander',\n",
    "       'Subject Perceived Race_Not Specified', 'Subject Perceived Race_Other',\n",
    "       'Subject Perceived Race_White', 'Stop Resolution_Citation / Infraction',\n",
    "       'Stop Resolution_Field Contact', 'Stop Resolution_Offense Report',\n",
    "       'Stop Resolution_Referred for Prosecution', 'Officer Race_Asian',\n",
    "       'Officer Race_Black or African American',\n",
    "       'Officer Race_Hispanic or Latino',\n",
    "       'Officer Race_Nat Hawaiian/Oth Pac Islander',\n",
    "       'Officer Race_Not Specified', 'Officer Race_Two or More Races',\n",
    "       'Officer Race_White']"
   ]
  },
  {
   "cell_type": "code",
   "execution_count": 67,
   "metadata": {},
   "outputs": [],
   "source": [
    "x_dummy = dummy_df[features]\n",
    "y=df['Arrested']"
   ]
  },
  {
   "cell_type": "code",
   "execution_count": 68,
   "metadata": {},
   "outputs": [
    {
     "data": {
      "text/plain": [
       "1.0"
      ]
     },
     "execution_count": 68,
     "metadata": {},
     "output_type": "execute_result"
    }
   ],
   "source": [
    "X_train_dummy, X_test_dummy, y_train_dummy, y_test_dummy = train_test_split(x_dummy,y, test_size = 0.3, random_state = 0)\n",
    "logreg = LogisticRegression().fit(X_train_dummy,y_train_dummy)\n",
    "y_pred = logreg.predict(X_test_dummy)\n",
    "accuracy_score(y_pred, y_test_dummy)"
   ]
  },
  {
   "cell_type": "code",
   "execution_count": 69,
   "metadata": {},
   "outputs": [
    {
     "name": "stdout",
     "output_type": "stream",
     "text": [
      "1.0\n"
     ]
    }
   ],
   "source": [
    "# experiment with random foorest\n",
    "from sklearn.ensemble import RandomForestClassifier\n",
    "rf = RandomForestClassifier()\n",
    "rf.fit(X_train_dummy, y_train_dummy)\n",
    "pred = rf.predict(X_test_dummy)\n",
    "print(accuracy_score(pred, y_test_dummy))\n"
   ]
  },
  {
   "cell_type": "code",
   "execution_count": 70,
   "metadata": {},
   "outputs": [
    {
     "name": "stdout",
     "output_type": "stream",
     "text": [
      "feature:0, score: 0.00021\n",
      "feature:1, score: 0.00125\n",
      "feature:2, score: 0.00016\n",
      "feature:3, score: 0.00022\n",
      "feature:4, score: 0.00003\n",
      "feature:5, score: 0.00122\n",
      "feature:6, score: 0.00006\n",
      "feature:7, score: 0.00043\n",
      "feature:8, score: 0.01214\n",
      "feature:9, score: 0.49700\n",
      "feature:10, score: 0.44964\n",
      "feature:11, score: 0.03627\n",
      "feature:12, score: 0.00012\n",
      "feature:13, score: 0.00024\n",
      "feature:14, score: 0.00025\n",
      "feature:15, score: 0.00017\n",
      "feature:16, score: 0.00012\n",
      "feature:17, score: 0.00021\n",
      "feature:18, score: 0.00024\n"
     ]
    },
    {
     "data": {
      "image/png": "[encoded data removed]",
      "text/plain": [
       "<Figure size 432x288 with 1 Axes>"
      ]
     },
     "metadata": {
      "needs_background": "light"
     },
     "output_type": "display_data"
    }
   ],
   "source": [
    "importance = rf.feature_importances_\n",
    "for i,v in enumerate(importance):\n",
    "    print('feature:%0d, score: %.5f' %(i,v))\n",
    "    \n",
    "plt.bar([x for x in range(len(importance))], importance)\n",
    "plt.show()"
   ]
  },
  {
   "cell_type": "code",
   "execution_count": 71,
   "metadata": {},
   "outputs": [
    {
     "data": {
      "text/plain": [
       "Index(['Stop Resolution_Field Contact', 'Stop Resolution_Offense Report'], dtype='object')"
      ]
     },
     "execution_count": 71,
     "metadata": {},
     "output_type": "execute_result"
    }
   ],
   "source": [
    "X_train_dummy.columns[9:11]"
   ]
  },
  {
   "cell_type": "code",
   "execution_count": 72,
   "metadata": {},
   "outputs": [],
   "source": [
    "features2 = ['Subject Perceived Race_Asian',\n",
    "       'Subject Perceived Race_Black or African American',\n",
    "       'Subject Perceived Race_Hispanic',\n",
    "       'Subject Perceived Race_Multi-Racial',\n",
    "       'Subject Perceived Race_Native Hawaiian or Other Pacific Islander',\n",
    "       'Subject Perceived Race_Not Specified', 'Subject Perceived Race_Other',\n",
    "       'Subject Perceived Race_White', 'Stop Resolution_Citation / Infraction',\n",
    "       'Stop Resolution_Referred for Prosecution', 'Officer Race_Asian',\n",
    "       'Officer Race_Black or African American',\n",
    "       'Officer Race_Hispanic or Latino',\n",
    "       'Officer Race_Nat Hawaiian/Oth Pac Islander',\n",
    "       'Officer Race_Not Specified', 'Officer Race_Two or More Races',\n",
    "       'Officer Race_White']"
   ]
  },
  {
   "cell_type": "code",
   "execution_count": 73,
   "metadata": {},
   "outputs": [],
   "source": [
    "x2_dummy = dummy_df[features2]"
   ]
  },
  {
   "cell_type": "code",
   "execution_count": 74,
   "metadata": {},
   "outputs": [
    {
     "data": {
      "text/plain": [
       "0.7539263226460158"
      ]
     },
     "execution_count": 74,
     "metadata": {},
     "output_type": "execute_result"
    }
   ],
   "source": [
    "X2_train_dummy, X2_test_dummy, y2_train_dummy, y2_test_dummy = train_test_split(x2_dummy,y, test_size = 0.3, random_state = 0)\n",
    "logreg2 = LogisticRegression().fit(X2_train_dummy,y2_train_dummy)\n",
    "y_pred2 = logreg2.predict(X2_test_dummy)\n",
    "accuracy_score(y_pred2, y2_test_dummy)"
   ]
  },
  {
   "cell_type": "code",
   "execution_count": 75,
   "metadata": {},
   "outputs": [
    {
     "name": "stdout",
     "output_type": "stream",
     "text": [
      "Null model of probability of being arrested is 0.3489583333333333\n",
      "The odds of being arrested is 0.53599999213568\n",
      "the logged odds of being arrested is [-1.12158569]\n"
     ]
    }
   ],
   "source": [
    "logged_odds = logreg2.intercept_\n",
    "odds = np.exp(logged_odds)\n",
    "probability = (odds/(1+odds))\n",
    "print(\"Null model of probability of being arrested is\" + \" \"+ str(268/(268+500)))\n",
    "print(\"The odds of being arrested is\" + \" \" + str(0.34895833/(1-0.34895833)))\n",
    "print(\"the logged odds of being arrested is\" + \" \" + str(np.log(odds)))"
   ]
  },
  {
   "cell_type": "code",
   "execution_count": 76,
   "metadata": {},
   "outputs": [
    {
     "name": "stdout",
     "output_type": "stream",
     "text": [
      "[[ 0.00981063 -0.01116059 -0.27397343 -0.45622811 -0.06763642 -0.6297463\n",
      "  -0.23997154 -0.25808681 -2.7003467  -3.80976509  0.14461702 -0.07473906\n",
      "   0.14164673 -0.16341102  0.22929262  0.29735594  0.25414552]]\n",
      "[-1.12158569]\n"
     ]
    }
   ],
   "source": [
    "print(logreg2.coef_)\n",
    "print(logreg2.intercept_)"
   ]
  },
  {
   "cell_type": "code",
   "execution_count": 77,
   "metadata": {},
   "outputs": [],
   "source": [
    "both_dfdummy = pd.concat([df, dummy_df], axis=1)"
   ]
  },
  {
   "cell_type": "code",
   "execution_count": 78,
   "metadata": {},
   "outputs": [],
   "source": [
    "features2 = ['White_Officer', 'Subject_POC', 'Officer_Age', 'under_17',\n",
    "             'Morning', 'Afternoon', 'Evening', 'Night','Subject Perceived Race_Asian',\n",
    "             'Subject Perceived Race_Black or African American',\n",
    "             'Subject Perceived Race_Hispanic',\n",
    "             'Subject Perceived Race_Multi-Racial',\n",
    "             'Subject Perceived Race_Native Hawaiian or Other Pacific Islander',\n",
    "             'Subject Perceived Race_Not Specified', 'Subject Perceived Race_Other',\n",
    "             'Subject Perceived Race_White', 'Stop Resolution_Citation / Infraction',\n",
    "             'Stop Resolution_Referred for Prosecution', 'Officer Race_Asian',\n",
    "             'Officer Race_Black or African American',\n",
    "             'Officer Race_Hispanic or Latino',\n",
    "             'Officer Race_Nat Hawaiian/Oth Pac Islander',\n",
    "             'Officer Race_Not Specified', 'Officer Race_Two or More Races',\n",
    "             'Officer Race_White']\n",
    "x_both = both_dfdummy[features2]"
   ]
  },
  {
   "cell_type": "code",
   "execution_count": 79,
   "metadata": {},
   "outputs": [
    {
     "name": "stderr",
     "output_type": "stream",
     "text": [
      "/Users/aratliff/anaconda3/envs/learn-env/lib/python3.6/site-packages/sklearn/linear_model/_logistic.py:765: ConvergenceWarning:\n",
      "\n",
      "lbfgs failed to converge (status=1):\n",
      "STOP: TOTAL NO. of ITERATIONS REACHED LIMIT.\n",
      "\n",
      "Increase the number of iterations (max_iter) or scale the data as shown in:\n",
      "    https://scikit-learn.org/stable/modules/preprocessing.html\n",
      "Please also refer to the documentation for alternative solver options:\n",
      "    https://scikit-learn.org/stable/modules/linear_model.html#logistic-regression\n",
      "\n"
     ]
    },
    {
     "data": {
      "text/plain": [
       "0.7539263226460158"
      ]
     },
     "execution_count": 79,
     "metadata": {},
     "output_type": "execute_result"
    }
   ],
   "source": [
    "X_train_both, X_test_both, y_train_both, y_test_both = train_test_split(x_both,y, test_size = 0.3, random_state = 0)\n",
    "logreg3 = LogisticRegression().fit(X_test_both,y_test_both)\n",
    "y_pred3 = logreg3.predict(X_test_both)\n",
    "accuracy_score(y_pred2, y2_test_dummy)"
   ]
  },
  {
   "cell_type": "code",
   "execution_count": 81,
   "metadata": {},
   "outputs": [
    {
     "name": "stdout",
     "output_type": "stream",
     "text": [
      "Null model of probability of being arrested is 0.3489583333333333\n",
      "The odds of being arrested is 0.53599999213568\n",
      "the logged odds of being arrested is [-0.10895837]\n"
     ]
    }
   ],
   "source": [
    "logged_odds2 = logreg3.intercept_\n",
    "odds2 = np.exp(logged_odds2)\n",
    "probability2 = (odds2/(1+odds2))\n",
    "print(\"Null model of probability of being arrested is\" + \" \"+ str(268/(268+500)))\n",
    "print(\"The odds of being arrested is\" + \" \" + str(0.34895833/(1-0.34895833)))\n",
    "print(\"the logged odds of being arrested is\" + \" \" + str(np.log(odds2)))"
   ]
  },
  {
   "cell_type": "code",
   "execution_count": 82,
   "metadata": {},
   "outputs": [
    {
     "name": "stdout",
     "output_type": "stream",
     "text": [
      "[[ 6.42606442e-03  6.42606442e-03  9.06098084e-02  9.06098084e-02\n",
      "  -1.20538840e-02 -1.20538840e-02 -7.69891735e-02 -7.69891735e-02\n",
      "   2.60379246e-02  2.60379246e-02 -1.41741426e-02 -1.41741426e-02\n",
      "   1.66854923e-03  1.66854923e-03 -1.90536402e-02 -1.90536402e-02\n",
      "  -1.90683110e-01 -2.10428437e-01 -2.80502734e-01 -4.18401463e-01\n",
      "   9.35522351e-02 -8.20037701e-01  2.50900611e-01 -1.84846100e-01\n",
      "  -1.01915485e+00 -3.18777789e+00 -1.44278183e-01 -2.68045945e-01\n",
      "   3.75937467e-02 -9.74282150e-02 -1.43630043e-01 -2.77758548e-02\n",
      "   6.42606442e-03]]\n",
      "[-0.10895837]\n"
     ]
    }
   ],
   "source": [
    "print(logreg3.coef_)\n",
    "print(logreg3.intercept_)"
   ]
  },
  {
   "cell_type": "markdown",
   "metadata": {},
   "source": [
    "### Updated Model Logreg"
   ]
  },
  {
   "cell_type": "code",
   "execution_count": 83,
   "metadata": {},
   "outputs": [],
   "source": [
    "both_dfdummy = pd.concat([df, dummy_df], axis=1)"
   ]
  },
  {
   "cell_type": "code",
   "execution_count": 85,
   "metadata": {},
   "outputs": [],
   "source": [
    "features3 = ['White_Officer', 'Subject_POC', 'Officer_Age', 'under_17',\n",
    "             'Morning', 'Afternoon', 'Evening', 'Night','Subject Perceived Race_Asian',\n",
    "             'Subject Perceived Race_Black or African American',\n",
    "             'Subject Perceived Race_Hispanic',\n",
    "             'Subject Perceived Race_Multi-Racial',\n",
    "             'Subject Perceived Race_Native Hawaiian or Other Pacific Islander',\n",
    "             'Subject Perceived Race_Not Specified', 'Subject Perceived Race_Other',\n",
    "             'Subject Perceived Race_White', 'Stop Resolution_Citation / Infraction',\n",
    "             'Stop Resolution_Referred for Prosecution', 'Officer Race_Asian',\n",
    "             'Officer Race_Black or African American',\n",
    "             'Officer Race_Hispanic or Latino',\n",
    "             'Officer Race_Nat Hawaiian/Oth Pac Islander',\n",
    "             'Officer Race_Not Specified', 'Officer Race_Two or More Races',\n",
    "             'Officer Race_White']\n",
    "x_both = both_dfdummy[features3]"
   ]
  },
  {
   "cell_type": "code",
   "execution_count": 86,
   "metadata": {},
   "outputs": [
    {
     "name": "stderr",
     "output_type": "stream",
     "text": [
      "/Users/aratliff/anaconda3/envs/learn-env/lib/python3.6/site-packages/sklearn/linear_model/_logistic.py:765: ConvergenceWarning:\n",
      "\n",
      "lbfgs failed to converge (status=1):\n",
      "STOP: TOTAL NO. of ITERATIONS REACHED LIMIT.\n",
      "\n",
      "Increase the number of iterations (max_iter) or scale the data as shown in:\n",
      "    https://scikit-learn.org/stable/modules/preprocessing.html\n",
      "Please also refer to the documentation for alternative solver options:\n",
      "    https://scikit-learn.org/stable/modules/linear_model.html#logistic-regression\n",
      "\n"
     ]
    },
    {
     "data": {
      "text/plain": [
       "0.7539263226460158"
      ]
     },
     "execution_count": 86,
     "metadata": {},
     "output_type": "execute_result"
    }
   ],
   "source": [
    "#Train test split\n",
    "X_train_both, X_test_both, y_train_both, y_test_both = train_test_split(x_both,y, test_size = 0.3, random_state = 0)\n",
    "logreg3 = LogisticRegression().fit(X_test_both,y_test_both)\n",
    "y_pred3 = logreg3.predict(X_test_both)\n",
    "accuracy_score(y_pred2, y2_test_dummy)"
   ]
  },
  {
   "cell_type": "code",
   "execution_count": 87,
   "metadata": {},
   "outputs": [
    {
     "name": "stdout",
     "output_type": "stream",
     "text": [
      "Null model of probability of being arrested is 0.3489583333333333\n",
      "The odds of being arrested is 0.53599999213568\n",
      "the logged odds of being arrested is [-0.10895837]\n"
     ]
    }
   ],
   "source": [
    "logged_odds2 = logreg3.intercept_\n",
    "odds2 = np.exp(logged_odds2)\n",
    "probability2 = (odds2/(1+odds2))\n",
    "print(\"Null model of probability of being arrested is\" + \" \"+ str(268/(268+500)))\n",
    "print(\"The odds of being arrested is\" + \" \" + str(0.34895833/(1-0.34895833)))\n",
    "print(\"the logged odds of being arrested is\" + \" \" + str(np.log(odds2)))"
   ]
  },
  {
   "cell_type": "code",
   "execution_count": 88,
   "metadata": {},
   "outputs": [
    {
     "name": "stdout",
     "output_type": "stream",
     "text": [
      "[[ 6.42606442e-03  6.42606442e-03  9.06098084e-02  9.06098084e-02\n",
      "  -1.20538840e-02 -1.20538840e-02 -7.69891735e-02 -7.69891735e-02\n",
      "   2.60379246e-02  2.60379246e-02 -1.41741426e-02 -1.41741426e-02\n",
      "   1.66854923e-03  1.66854923e-03 -1.90536402e-02 -1.90536402e-02\n",
      "  -1.90683110e-01 -2.10428437e-01 -2.80502734e-01 -4.18401463e-01\n",
      "   9.35522351e-02 -8.20037701e-01  2.50900611e-01 -1.84846100e-01\n",
      "  -1.01915485e+00 -3.18777789e+00 -1.44278183e-01 -2.68045945e-01\n",
      "   3.75937467e-02 -9.74282150e-02 -1.43630043e-01 -2.77758548e-02\n",
      "   6.42606442e-03]]\n",
      "[-0.10895837]\n"
     ]
    }
   ],
   "source": [
    "print(logreg3.coef_)\n",
    "print(logreg3.intercept_)"
   ]
  },
  {
   "cell_type": "code",
   "execution_count": 89,
   "metadata": {},
   "outputs": [
    {
     "name": "stdout",
     "output_type": "stream",
     "text": [
      "[[10417     0]\n",
      " [ 3400     0]]\n",
      "              precision    recall  f1-score   support\n",
      "\n",
      "           0       0.75      1.00      0.86     10417\n",
      "           1       0.00      0.00      0.00      3400\n",
      "\n",
      "    accuracy                           0.75     13817\n",
      "   macro avg       0.38      0.50      0.43     13817\n",
      "weighted avg       0.57      0.75      0.65     13817\n",
      "\n"
     ]
    },
    {
     "name": "stderr",
     "output_type": "stream",
     "text": [
      "/Users/aratliff/anaconda3/envs/learn-env/lib/python3.6/site-packages/sklearn/metrics/_classification.py:1245: UndefinedMetricWarning:\n",
      "\n",
      "Precision and F-score are ill-defined and being set to 0.0 in labels with no predicted samples. Use `zero_division` parameter to control this behavior.\n",
      "\n",
      "/Users/aratliff/anaconda3/envs/learn-env/lib/python3.6/site-packages/sklearn/metrics/_classification.py:1245: UndefinedMetricWarning:\n",
      "\n",
      "Precision and F-score are ill-defined and being set to 0.0 in labels with no predicted samples. Use `zero_division` parameter to control this behavior.\n",
      "\n",
      "/Users/aratliff/anaconda3/envs/learn-env/lib/python3.6/site-packages/sklearn/metrics/_classification.py:1245: UndefinedMetricWarning:\n",
      "\n",
      "Precision and F-score are ill-defined and being set to 0.0 in labels with no predicted samples. Use `zero_division` parameter to control this behavior.\n",
      "\n"
     ]
    }
   ],
   "source": [
    "print(confusion_matrix(y_test_both, y_pred3))\n",
    "print(classification_report(y_test_both, y_pred3))"
   ]
  },
  {
   "cell_type": "markdown",
   "metadata": {},
   "source": [
    "## Decision Tree"
   ]
  },
  {
   "cell_type": "code",
   "execution_count": 35,
   "metadata": {},
   "outputs": [],
   "source": [
    "X_train_dt, X_test_dt, y_train_dt, y_test_dt = train_test_split(x_both, y, test_size=0.30, random_state=0)"
   ]
  },
  {
   "cell_type": "code",
   "execution_count": 36,
   "metadata": {},
   "outputs": [
    {
     "data": {
      "text/plain": [
       "DecisionTreeClassifier()"
      ]
     },
     "execution_count": 36,
     "metadata": {},
     "output_type": "execute_result"
    }
   ],
   "source": [
    "#Model\n",
    "classifier = DecisionTreeClassifier()\n",
    "classifier.fit(X_train_dt, y_train_dt)a"
   ]
  },
  {
   "cell_type": "code",
   "execution_count": 37,
   "metadata": {},
   "outputs": [],
   "source": [
    "y_pred_dt = classifier.predict(X_test_dt)"
   ]
  },
  {
   "cell_type": "code",
   "execution_count": 38,
   "metadata": {},
   "outputs": [
    {
     "name": "stdout",
     "output_type": "stream",
     "text": [
      "[[10048   369]\n",
      " [ 3203   197]]\n",
      "              precision    recall  f1-score   support\n",
      "\n",
      "           0       0.76      0.96      0.85     10417\n",
      "           1       0.35      0.06      0.10      3400\n",
      "\n",
      "    accuracy                           0.74     13817\n",
      "   macro avg       0.55      0.51      0.47     13817\n",
      "weighted avg       0.66      0.74      0.66     13817\n",
      "\n"
     ]
    }
   ],
   "source": [
    "#Evaluation \n",
    "print(confusion_matrix(y_test_dt, y_pred_dt))\n",
    "print(classification_report(y_test_dt, y_pred_dt))"
   ]
  },
  {
   "cell_type": "markdown",
   "metadata": {},
   "source": [
    "## KNN "
   ]
  },
  {
   "cell_type": "code",
   "execution_count": 90,
   "metadata": {},
   "outputs": [],
   "source": [
    "X_train, X_test, y_train, y_test = train_test_split(X,y, test_size = 0.2, random_state = 0)"
   ]
  },
  {
   "cell_type": "code",
   "execution_count": 91,
   "metadata": {},
   "outputs": [],
   "source": [
    "#Model\n",
    "knn = KNeighborsClassifier(n_neighbors=5, p=2)"
   ]
  },
  {
   "cell_type": "code",
   "execution_count": 92,
   "metadata": {},
   "outputs": [
    {
     "data": {
      "text/plain": [
       "KNeighborsClassifier()"
      ]
     },
     "execution_count": 92,
     "metadata": {},
     "output_type": "execute_result"
    }
   ],
   "source": [
    "knn.fit(X_train, y_train)"
   ]
  },
  {
   "cell_type": "code",
   "execution_count": 93,
   "metadata": {},
   "outputs": [
    {
     "data": {
      "text/plain": [
       "array([0, 0, 0, ..., 0, 0, 0])"
      ]
     },
     "execution_count": 93,
     "metadata": {},
     "output_type": "execute_result"
    }
   ],
   "source": [
    "y_pred= knn.predict(X_test)\n",
    "y_pred"
   ]
  },
  {
   "cell_type": "code",
   "execution_count": 94,
   "metadata": {},
   "outputs": [
    {
     "name": "stdout",
     "output_type": "stream",
     "text": [
      "[[6300  638]\n",
      " [2001  272]]\n"
     ]
    }
   ],
   "source": [
    "#Evaluation\n",
    "cm = confusion_matrix(y_test, y_pred)\n",
    "print (cm)"
   ]
  },
  {
   "cell_type": "code",
   "execution_count": 95,
   "metadata": {},
   "outputs": [
    {
     "name": "stdout",
     "output_type": "stream",
     "text": [
      "Original F1 Score: 0.17090794847628024\n",
      "Original Accuracy Score: 0.7134947345565085\n"
     ]
    }
   ],
   "source": [
    "print('Original F1 Score:', (f1_score(y_test, y_pred)))\n",
    "print('Original Accuracy Score:', (accuracy_score(y_test, y_pred)))"
   ]
  },
  {
   "cell_type": "code",
   "execution_count": null,
   "metadata": {},
   "outputs": [],
   "source": [
    "#"
   ]
  },
  {
   "cell_type": "code",
   "execution_count": 17,
   "metadata": {},
   "outputs": [],
   "source": [
    "yes_arrested = training[training.Arrested==1] \n",
    "not_arrested = training[training.Arrested==0]"
   ]
  },
  {
   "cell_type": "code",
   "execution_count": 33,
   "metadata": {},
   "outputs": [],
   "source": [
    "arrested_upsampled = resample(yes_arrested,\n",
    "                        replace=True,\n",
    "                        n_samples=len(not_arrested),\n",
    "                        random_state=23)"
   ]
  },
  {
   "cell_type": "code",
   "execution_count": 34,
   "metadata": {},
   "outputs": [
    {
     "data": {
      "text/plain": [
       "(27774, 9)"
      ]
     },
     "execution_count": 34,
     "metadata": {},
     "output_type": "execute_result"
    }
   ],
   "source": [
    "arrested_upsampled.shape"
   ]
  },
  {
   "cell_type": "code",
   "execution_count": 35,
   "metadata": {},
   "outputs": [
    {
     "data": {
      "text/plain": [
       "1    27774\n",
       "0    27774\n",
       "Name: Arrested, dtype: int64"
      ]
     },
     "execution_count": 35,
     "metadata": {},
     "output_type": "execute_result"
    }
   ],
   "source": [
    "upsampled = pd.concat([not_arrested, arrested_upsampled])\n",
    "\n",
    "upsampled.Arrested.value_counts()"
   ]
  },
  {
   "cell_type": "code",
   "execution_count": 47,
   "metadata": {},
   "outputs": [
    {
     "name": "stdout",
     "output_type": "stream",
     "text": [
      "Upsampled F1 Score: 0.3114607545145718\n",
      "Upsampled Accuracy score:  0.5819129301921615\n"
     ]
    }
   ],
   "source": [
    "y_train_up = upsampled.Arrested\n",
    "X_train_up = upsampled.drop('Arrested', axis=1)\n",
    "\n",
    "upsampled_knn = KNeighborsClassifier(n_neighbors=5, p=2)\n",
    "upsampled_knn.fit(X_train_up, y_train_up)\n",
    "upsampled_pred = upsampled_knn.predict(X_test)\n",
    "\n",
    "print('Upsampled F1 Score:', f1_score(y_test, upsampled_pred))\n",
    "print('Upsampled Accuracy score: ', accuracy_score(y_test, upsampled_pred))"
   ]
  },
  {
   "cell_type": "code",
   "execution_count": null,
   "metadata": {},
   "outputs": [],
   "source": []
  }
 ],
 "metadata": {
  "kernelspec": {
   "display_name": "Python 3",
   "language": "python",
   "name": "python3"
  },
  "language_info": {
   "codemirror_mode": {
    "name": "ipython",
    "version": 3
   },
   "file_extension": ".py",
   "mimetype": "text/x-python",
   "name": "python",
   "nbconvert_exporter": "python",
   "pygments_lexer": "ipython3",
   "version": "3.6.9"
  }
 },
 "nbformat": 4,
 "nbformat_minor": 4
}
