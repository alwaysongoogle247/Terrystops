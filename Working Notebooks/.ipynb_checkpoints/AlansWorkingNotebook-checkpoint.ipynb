{
 "cells": [
  {
   "cell_type": "code",
   "execution_count": 1,
   "metadata": {},
   "outputs": [],
   "source": [
    "import pandas as pd\n",
    "import numpy as np\n",
    "import seaborn as sns\n",
    "import matplotlib.pyplot as plt\n",
    "import pandas_profiling\n",
    "import plotly.offline as po\n",
    "import plotly.graph_objs as go\n",
    "from sklearn.linear_model import LogisticRegression\n",
    "from sklearn.model_selection import train_test_split\n",
    "%matplotlib inline\n",
    "\n",
    "pd.set_option('display.max_columns',100)\n",
    "pd.set_option('display.max_rows', 200)"
   ]
  },
  {
   "cell_type": "markdown",
   "metadata": {},
   "source": [
    "Given the information about the presence of weapons, the time of day of the call, the subject's perceived race, the officer's race\n",
    "\n",
    "INquiry into whether race plays a role in whether or not an arrest is made"
   ]
  },
  {
   "cell_type": "code",
   "execution_count": 2,
   "metadata": {},
   "outputs": [
    {
     "data": {
      "text/html": [
       "<div>\n",
       "<style scoped>\n",
       "    .dataframe tbody tr th:only-of-type {\n",
       "        vertical-align: middle;\n",
       "    }\n",
       "\n",
       "    .dataframe tbody tr th {\n",
       "        vertical-align: top;\n",
       "    }\n",
       "\n",
       "    .dataframe thead th {\n",
       "        text-align: right;\n",
       "    }\n",
       "</style>\n",
       "<table border=\"1\" class=\"dataframe\">\n",
       "  <thead>\n",
       "    <tr style=\"text-align: right;\">\n",
       "      <th></th>\n",
       "      <th>Subject Age Group</th>\n",
       "      <th>Subject ID</th>\n",
       "      <th>GO / SC Num</th>\n",
       "      <th>Terry Stop ID</th>\n",
       "      <th>Stop Resolution</th>\n",
       "      <th>Weapon Type</th>\n",
       "      <th>Officer ID</th>\n",
       "      <th>Officer YOB</th>\n",
       "      <th>Officer Gender</th>\n",
       "      <th>Officer Race</th>\n",
       "      <th>Subject Perceived Race</th>\n",
       "      <th>Subject Perceived Gender</th>\n",
       "      <th>Reported Date</th>\n",
       "      <th>Reported Time</th>\n",
       "      <th>Initial Call Type</th>\n",
       "      <th>Final Call Type</th>\n",
       "      <th>Call Type</th>\n",
       "      <th>Officer Squad</th>\n",
       "      <th>Arrest Flag</th>\n",
       "      <th>Frisk Flag</th>\n",
       "      <th>Precinct</th>\n",
       "      <th>Sector</th>\n",
       "      <th>Beat</th>\n",
       "    </tr>\n",
       "  </thead>\n",
       "  <tbody>\n",
       "    <tr>\n",
       "      <th>0</th>\n",
       "      <td>18 - 25</td>\n",
       "      <td>-1</td>\n",
       "      <td>20150000203647</td>\n",
       "      <td>54389</td>\n",
       "      <td>Arrest</td>\n",
       "      <td>None</td>\n",
       "      <td>7412</td>\n",
       "      <td>1979</td>\n",
       "      <td>M</td>\n",
       "      <td>White</td>\n",
       "      <td>White</td>\n",
       "      <td>Male</td>\n",
       "      <td>2015-06-17T00:00:00</td>\n",
       "      <td>13:18:00</td>\n",
       "      <td>SHOPLIFT - THEFT</td>\n",
       "      <td>--THEFT - SHOPLIFT</td>\n",
       "      <td>ONVIEW</td>\n",
       "      <td>WEST PCT 2ND W - KING BEATS</td>\n",
       "      <td>N</td>\n",
       "      <td>N</td>\n",
       "      <td>East</td>\n",
       "      <td>C</td>\n",
       "      <td>C3</td>\n",
       "    </tr>\n",
       "    <tr>\n",
       "      <th>1</th>\n",
       "      <td>18 - 25</td>\n",
       "      <td>-1</td>\n",
       "      <td>20150000203762</td>\n",
       "      <td>54306</td>\n",
       "      <td>Field Contact</td>\n",
       "      <td>None</td>\n",
       "      <td>7725</td>\n",
       "      <td>1974</td>\n",
       "      <td>F</td>\n",
       "      <td>White</td>\n",
       "      <td>Unknown</td>\n",
       "      <td>Female</td>\n",
       "      <td>2015-06-17T00:00:00</td>\n",
       "      <td>16:36:00</td>\n",
       "      <td>THREATS (INCLS IN-PERSON/BY PHONE/IN WRITING)</td>\n",
       "      <td>--DV - ARGUMENTS, DISTURBANCE (NO ARREST)</td>\n",
       "      <td>911</td>\n",
       "      <td>WEST PCT 2ND W - KING</td>\n",
       "      <td>N</td>\n",
       "      <td>N</td>\n",
       "      <td>West</td>\n",
       "      <td>K</td>\n",
       "      <td>K2</td>\n",
       "    </tr>\n",
       "    <tr>\n",
       "      <th>2</th>\n",
       "      <td>18 - 25</td>\n",
       "      <td>-1</td>\n",
       "      <td>20150000203886</td>\n",
       "      <td>60810</td>\n",
       "      <td>Offense Report</td>\n",
       "      <td>Lethal Cutting Instrument</td>\n",
       "      <td>6805</td>\n",
       "      <td>1973</td>\n",
       "      <td>M</td>\n",
       "      <td>White</td>\n",
       "      <td>White</td>\n",
       "      <td>Male</td>\n",
       "      <td>2015-07-06T00:00:00</td>\n",
       "      <td>17:36:00</td>\n",
       "      <td>SUSPICIOUS PERSON, VEHICLE OR INCIDENT</td>\n",
       "      <td>--SUSPICIOUS CIRCUM. - SUSPICIOUS PERSON</td>\n",
       "      <td>ONVIEW</td>\n",
       "      <td>WEST PCT 2ND W - DAVID</td>\n",
       "      <td>N</td>\n",
       "      <td>Y</td>\n",
       "      <td>West</td>\n",
       "      <td>D</td>\n",
       "      <td>D1</td>\n",
       "    </tr>\n",
       "    <tr>\n",
       "      <th>3</th>\n",
       "      <td>18 - 25</td>\n",
       "      <td>-1</td>\n",
       "      <td>20150000203886</td>\n",
       "      <td>60811</td>\n",
       "      <td>Offense Report</td>\n",
       "      <td>Lethal Cutting Instrument</td>\n",
       "      <td>6805</td>\n",
       "      <td>1973</td>\n",
       "      <td>M</td>\n",
       "      <td>White</td>\n",
       "      <td>White</td>\n",
       "      <td>Male</td>\n",
       "      <td>2015-06-18T00:00:00</td>\n",
       "      <td>15:00:00</td>\n",
       "      <td>SUSPICIOUS PERSON, VEHICLE OR INCIDENT</td>\n",
       "      <td>--SUSPICIOUS CIRCUM. - SUSPICIOUS PERSON</td>\n",
       "      <td>ONVIEW</td>\n",
       "      <td>WEST PCT 2ND W - DAVID</td>\n",
       "      <td>N</td>\n",
       "      <td>Y</td>\n",
       "      <td>West</td>\n",
       "      <td>D</td>\n",
       "      <td>D1</td>\n",
       "    </tr>\n",
       "    <tr>\n",
       "      <th>4</th>\n",
       "      <td>18 - 25</td>\n",
       "      <td>-1</td>\n",
       "      <td>20150000204122</td>\n",
       "      <td>54333</td>\n",
       "      <td>Arrest</td>\n",
       "      <td>Handgun</td>\n",
       "      <td>7472</td>\n",
       "      <td>1981</td>\n",
       "      <td>M</td>\n",
       "      <td>White</td>\n",
       "      <td>Black or African American</td>\n",
       "      <td>Male</td>\n",
       "      <td>2015-06-17T00:00:00</td>\n",
       "      <td>19:36:00</td>\n",
       "      <td>WARRANT - FELONY PICKUP</td>\n",
       "      <td>--WARRANT SERVICES - FELONY</td>\n",
       "      <td>ONVIEW</td>\n",
       "      <td>EAST PCT 2ND W - BEATS</td>\n",
       "      <td>N</td>\n",
       "      <td>Y</td>\n",
       "      <td>East</td>\n",
       "      <td>C</td>\n",
       "      <td>C3</td>\n",
       "    </tr>\n",
       "  </tbody>\n",
       "</table>\n",
       "</div>"
      ],
      "text/plain": [
       "  Subject Age Group  Subject ID     GO / SC Num  Terry Stop ID  \\\n",
       "0           18 - 25          -1  20150000203647          54389   \n",
       "1           18 - 25          -1  20150000203762          54306   \n",
       "2           18 - 25          -1  20150000203886          60810   \n",
       "3           18 - 25          -1  20150000203886          60811   \n",
       "4           18 - 25          -1  20150000204122          54333   \n",
       "\n",
       "  Stop Resolution                Weapon Type Officer ID  Officer YOB  \\\n",
       "0          Arrest                       None     7412           1979   \n",
       "1   Field Contact                       None     7725           1974   \n",
       "2  Offense Report  Lethal Cutting Instrument     6805           1973   \n",
       "3  Offense Report  Lethal Cutting Instrument     6805           1973   \n",
       "4          Arrest                    Handgun     7472           1981   \n",
       "\n",
       "  Officer Gender Officer Race     Subject Perceived Race  \\\n",
       "0              M        White                      White   \n",
       "1              F        White                    Unknown   \n",
       "2              M        White                      White   \n",
       "3              M        White                      White   \n",
       "4              M        White  Black or African American   \n",
       "\n",
       "  Subject Perceived Gender        Reported Date Reported Time  \\\n",
       "0                     Male  2015-06-17T00:00:00      13:18:00   \n",
       "1                   Female  2015-06-17T00:00:00      16:36:00   \n",
       "2                     Male  2015-07-06T00:00:00      17:36:00   \n",
       "3                     Male  2015-06-18T00:00:00      15:00:00   \n",
       "4                     Male  2015-06-17T00:00:00      19:36:00   \n",
       "\n",
       "                               Initial Call Type  \\\n",
       "0                               SHOPLIFT - THEFT   \n",
       "1  THREATS (INCLS IN-PERSON/BY PHONE/IN WRITING)   \n",
       "2         SUSPICIOUS PERSON, VEHICLE OR INCIDENT   \n",
       "3         SUSPICIOUS PERSON, VEHICLE OR INCIDENT   \n",
       "4                        WARRANT - FELONY PICKUP   \n",
       "\n",
       "                             Final Call Type Call Type  \\\n",
       "0                         --THEFT - SHOPLIFT    ONVIEW   \n",
       "1  --DV - ARGUMENTS, DISTURBANCE (NO ARREST)       911   \n",
       "2   --SUSPICIOUS CIRCUM. - SUSPICIOUS PERSON    ONVIEW   \n",
       "3   --SUSPICIOUS CIRCUM. - SUSPICIOUS PERSON    ONVIEW   \n",
       "4                --WARRANT SERVICES - FELONY    ONVIEW   \n",
       "\n",
       "                 Officer Squad Arrest Flag Frisk Flag Precinct  Sector    Beat  \n",
       "0  WEST PCT 2ND W - KING BEATS           N          N     East  C       C3      \n",
       "1        WEST PCT 2ND W - KING           N          N     West  K       K2      \n",
       "2       WEST PCT 2ND W - DAVID           N          Y     West  D       D1      \n",
       "3       WEST PCT 2ND W - DAVID           N          Y     West  D       D1      \n",
       "4       EAST PCT 2ND W - BEATS           N          Y     East  C       C3      "
      ]
     },
     "execution_count": 2,
     "metadata": {},
     "output_type": "execute_result"
    }
   ],
   "source": [
    "#Looking at the data and getting a sense of the values\n",
    "df = pd.read_csv('Terry_Stops.csv')\n",
    "df.head()"
   ]
  },
  {
   "cell_type": "code",
   "execution_count": 3,
   "metadata": {},
   "outputs": [
    {
     "data": {
      "text/plain": [
       "Subject Age Group           object\n",
       "Subject ID                   int64\n",
       "GO / SC Num                  int64\n",
       "Terry Stop ID                int64\n",
       "Stop Resolution             object\n",
       "Weapon Type                 object\n",
       "Officer ID                  object\n",
       "Officer YOB                  int64\n",
       "Officer Gender              object\n",
       "Officer Race                object\n",
       "Subject Perceived Race      object\n",
       "Subject Perceived Gender    object\n",
       "Reported Date               object\n",
       "Reported Time               object\n",
       "Initial Call Type           object\n",
       "Final Call Type             object\n",
       "Call Type                   object\n",
       "Officer Squad               object\n",
       "Arrest Flag                 object\n",
       "Frisk Flag                  object\n",
       "Precinct                    object\n",
       "Sector                      object\n",
       "Beat                        object\n",
       "dtype: object"
      ]
     },
     "execution_count": 3,
     "metadata": {},
     "output_type": "execute_result"
    }
   ],
   "source": [
    "#Viewing the data types \n",
    "df.dtypes"
   ]
  },
  {
   "cell_type": "code",
   "execution_count": 4,
   "metadata": {},
   "outputs": [
    {
     "data": {
      "text/plain": [
       "(46305, 23)"
      ]
     },
     "execution_count": 4,
     "metadata": {},
     "output_type": "execute_result"
    }
   ],
   "source": [
    "#View the shape of the data\n",
    "df.shape"
   ]
  },
  {
   "cell_type": "code",
   "execution_count": 5,
   "metadata": {},
   "outputs": [
    {
     "data": {
      "text/plain": [
       "Subject Age Group             0\n",
       "Subject ID                    0\n",
       "GO / SC Num                   0\n",
       "Terry Stop ID                 0\n",
       "Stop Resolution               0\n",
       "Weapon Type                   0\n",
       "Officer ID                    0\n",
       "Officer YOB                   0\n",
       "Officer Gender                0\n",
       "Officer Race                  0\n",
       "Subject Perceived Race        0\n",
       "Subject Perceived Gender      0\n",
       "Reported Date                 0\n",
       "Reported Time                 0\n",
       "Initial Call Type             0\n",
       "Final Call Type               0\n",
       "Call Type                     0\n",
       "Officer Squad               605\n",
       "Arrest Flag                   0\n",
       "Frisk Flag                    0\n",
       "Precinct                      0\n",
       "Sector                        0\n",
       "Beat                          0\n",
       "dtype: int64"
      ]
     },
     "execution_count": 5,
     "metadata": {},
     "output_type": "execute_result"
    }
   ],
   "source": [
    "#Check Null Values\n",
    "df.isna().sum()"
   ]
  },
  {
   "cell_type": "code",
   "execution_count": 6,
   "metadata": {},
   "outputs": [
    {
     "data": {
      "text/plain": [
       "Field Contact               18555\n",
       "Offense Report              15448\n",
       "Arrest                      11397\n",
       "Referred for Prosecution      728\n",
       "Citation / Infraction         177\n",
       "Name: Stop Resolution, dtype: int64"
      ]
     },
     "execution_count": 6,
     "metadata": {},
     "output_type": "execute_result"
    }
   ],
   "source": [
    "#We want to create our Target variable so we will check the Stop_Resolution \n",
    "df['Stop Resolution'].value_counts()"
   ]
  },
  {
   "cell_type": "code",
   "execution_count": 7,
   "metadata": {},
   "outputs": [],
   "source": [
    "#We create our Target variable (Arrest)\n",
    "df['Arrested'] = df['Stop Resolution'] == 'Arrest'\n",
    "df['Arrested'] = df['Arrested'].replace([True, False], [1,0])"
   ]
  },
  {
   "cell_type": "code",
   "execution_count": 8,
   "metadata": {},
   "outputs": [
    {
     "data": {
      "text/plain": [
       "West         11118\n",
       "North        10184\n",
       "-             9811\n",
       "East          6109\n",
       "South         5547\n",
       "Southwest     2320\n",
       "SouthWest      965\n",
       "Unknown        200\n",
       "OOJ             32\n",
       "FK ERROR        19\n",
       "Name: Precinct, dtype: int64"
      ]
     },
     "execution_count": 8,
     "metadata": {},
     "output_type": "execute_result"
    }
   ],
   "source": [
    "#Started to look at value counts and first started with Precinct. We see that there are a few values like '-', 'OOJ', 'FK ERROR' and 'Unknown'. \n",
    "#We want to clean this up\n",
    "df['Precinct'].value_counts()"
   ]
  },
  {
   "cell_type": "code",
   "execution_count": 9,
   "metadata": {},
   "outputs": [
    {
     "data": {
      "text/plain": [
       "West             11118\n",
       "North            10184\n",
       "Not Specified     9811\n",
       "East              6109\n",
       "South             5547\n",
       "Southwest         3285\n",
       "Name: Precinct, dtype: int64"
      ]
     },
     "execution_count": 9,
     "metadata": {},
     "output_type": "execute_result"
    }
   ],
   "source": [
    "#IS THIS NECESSARY? PRECINCT ISN'T ONE OF OUR FEATURES THAT WE ARE MEASURING AGAINST THE ARRESTS\n",
    "#Dropped OOJ, FK ERROR, and Unkown, these were a small portion of our data and we didnt think it would impact the model\n",
    "df['Precinct'] = df['Precinct'].replace(['SouthWest','-'], ['Southwest','Not Specified']) \n",
    "df = df[df.Precinct != 'OOJ']\n",
    "df = df[df.Precinct != 'FK ERROR']\n",
    "df = df[df.Precinct != 'Unknown']\n",
    "df['Precinct'].value_counts()"
   ]
  },
  {
   "cell_type": "code",
   "execution_count": 10,
   "metadata": {},
   "outputs": [
    {
     "data": {
      "text/plain": [
       "White                            34892\n",
       "Hispanic or Latino                2635\n",
       "Two or More Races                 2569\n",
       "Asian                             1962\n",
       "Black or African American         1820\n",
       "Not Specified                     1342\n",
       "Nat Hawaiian/Oth Pac Islander      447\n",
       "American Indian/Alaska Native      317\n",
       "Unknown                             70\n",
       "Name: Officer Race, dtype: int64"
      ]
     },
     "execution_count": 10,
     "metadata": {},
     "output_type": "execute_result"
    }
   ],
   "source": [
    "#We believe that an Officer's race will have an impact on our model\n",
    "#add data viz\n",
    "df['Officer Race'].value_counts()"
   ]
  },
  {
   "cell_type": "code",
   "execution_count": 11,
   "metadata": {},
   "outputs": [],
   "source": [
    "# ax = sns.distributions(data=df, x=df['White_Officer'], y=df['Arrested'])\n",
    "# plt.tight_layout()\n",
    "# plt.show()"
   ]
  },
  {
   "cell_type": "code",
   "execution_count": 12,
   "metadata": {},
   "outputs": [],
   "source": [
    "#We want to group the 'Unkown' with 'Not Specified'\n",
    "df['Officer Race'] = df['Officer Race'].replace('Unknown', 'Not Specified')"
   ]
  },
  {
   "cell_type": "code",
   "execution_count": 13,
   "metadata": {},
   "outputs": [
    {
     "data": {
      "text/plain": [
       "White                            34892\n",
       "Hispanic or Latino                2635\n",
       "Two or More Races                 2569\n",
       "Asian                             1962\n",
       "Black or African American         1820\n",
       "Not Specified                     1412\n",
       "Nat Hawaiian/Oth Pac Islander      447\n",
       "American Indian/Alaska Native      317\n",
       "Name: Officer Race, dtype: int64"
      ]
     },
     "execution_count": 13,
     "metadata": {},
     "output_type": "execute_result"
    }
   ],
   "source": [
    "df['Officer Race'].value_counts()"
   ]
  },
  {
   "cell_type": "code",
   "execution_count": 14,
   "metadata": {},
   "outputs": [
    {
     "data": {
      "text/plain": [
       "1    34892\n",
       "0    11162\n",
       "Name: White_Officer, dtype: int64"
      ]
     },
     "execution_count": 14,
     "metadata": {},
     "output_type": "execute_result"
    }
   ],
   "source": [
    "#Creating the value of whether or not the officer is White or not and look at the value counts to see what that data looks like \n",
    "df['White_Officer'] = (df['Officer Race'] == 'White')\n",
    "df['White_Officer'] = df['White_Officer'].replace([True, False], [1,0])\n",
    "df['White_Officer'].value_counts()"
   ]
  },
  {
   "cell_type": "code",
   "execution_count": 15,
   "metadata": {},
   "outputs": [
    {
     "data": {
      "text/plain": [
       "White                                        22497\n",
       "Black or African American                    13719\n",
       "Unknown                                       2506\n",
       "-                                             1863\n",
       "Hispanic                                      1664\n",
       "Asian                                         1479\n",
       "American Indian or Alaska Native              1326\n",
       "Multi-Racial                                   800\n",
       "Other                                          152\n",
       "Native Hawaiian or Other Pacific Islander       48\n",
       "Name: Subject Perceived Race, dtype: int64"
      ]
     },
     "execution_count": 15,
     "metadata": {},
     "output_type": "execute_result"
    }
   ],
   "source": [
    "#We also think that a Subject's Perceived Race will have an impact on the rate of arrests so we look at those value counts \n",
    "df['Subject Perceived Race'].value_counts()"
   ]
  },
  {
   "cell_type": "code",
   "execution_count": 16,
   "metadata": {},
   "outputs": [
    {
     "data": {
      "text/plain": [
       "White                                        22497\n",
       "Black or African American                    13719\n",
       "Not Specified                                 4369\n",
       "Hispanic                                      1664\n",
       "Asian                                         1479\n",
       "American Indian or Alaska Native              1326\n",
       "Multi-Racial                                   800\n",
       "Other                                          152\n",
       "Native Hawaiian or Other Pacific Islander       48\n",
       "Name: Subject Perceived Race, dtype: int64"
      ]
     },
     "execution_count": 16,
     "metadata": {},
     "output_type": "execute_result"
    }
   ],
   "source": [
    "#We converted '-','Unknown' into 'Not Specified', we left 'Other' in its own category\n",
    "df['Subject Perceived Race'] = df['Subject Perceived Race'].replace(['-', 'Unknown'],['Not Specified', 'Not Specified'])\n",
    "df['Subject Perceived Race'].value_counts()"
   ]
  },
  {
   "cell_type": "code",
   "execution_count": 17,
   "metadata": {},
   "outputs": [
    {
     "data": {
      "text/plain": [
       "1    23557\n",
       "0    22497\n",
       "Name: Subject_POC, dtype: int64"
      ]
     },
     "execution_count": 17,
     "metadata": {},
     "output_type": "execute_result"
    }
   ],
   "source": [
    "#We want to see if there is a relationship of arrests and race so we created a feature called 'Subject_POC' by grouping all those who do not have 'White' as their value\n",
    "df['Subject_POC'] = df['Subject Perceived Race'] != 'White'\n",
    "df['Subject_POC'] = df['Subject_POC'].replace([True, False], [1,0])\n",
    "df['Subject_POC'].value_counts()"
   ]
  },
  {
   "cell_type": "code",
   "execution_count": 18,
   "metadata": {},
   "outputs": [
    {
     "data": {
      "text/plain": [
       "Male                                                         36088\n",
       "Female                                                        9354\n",
       "Unable to Determine                                            314\n",
       "-                                                              272\n",
       "Unknown                                                         22\n",
       "Gender Diverse (gender non-conforming and/or transgender)        4\n",
       "Name: Subject Perceived Gender, dtype: int64"
      ]
     },
     "execution_count": 18,
     "metadata": {},
     "output_type": "execute_result"
    }
   ],
   "source": [
    "#We want to explore percieved gender\n",
    "df['Subject Perceived Gender'].value_counts()"
   ]
  },
  {
   "cell_type": "code",
   "execution_count": 19,
   "metadata": {},
   "outputs": [
    {
     "data": {
      "text/plain": [
       "Male                                                         36088\n",
       "Female                                                        9354\n",
       "Gender Diverse (gender non-conforming and/or transgender)      318\n",
       "Unknown                                                        294\n",
       "Name: Subject Perceived Gender, dtype: int64"
      ]
     },
     "execution_count": 19,
     "metadata": {},
     "output_type": "execute_result"
    }
   ],
   "source": [
    "#Grouping Unable to Determine with Gender Diverse. We recognize that although they may not identify as Gender Diverse we know that perception of one's gender is an indication of how \n",
    "#Society treats you. This in no way is being used to disregard individuals' gender identity.\n",
    "df['Subject Perceived Gender'] = df['Subject Perceived Gender'].replace('-', 'Unknown')\n",
    "df['Subject Perceived Gender'] = df['Subject Perceived Gender'].replace('Unable to Determine', 'Gender Diverse (gender non-conforming and/or transgender)')\n",
    "df['Subject Perceived Gender'].value_counts()"
   ]
  },
  {
   "cell_type": "code",
   "execution_count": 20,
   "metadata": {},
   "outputs": [
    {
     "data": {
      "text/plain": [
       "911                              20666\n",
       "NOT SPECIFIED                    13056\n",
       "ONVIEW                            8816\n",
       "TELEPHONE OTHER, NOT 911          3194\n",
       "ALARM CALL (NOT POLICE ALARM)      315\n",
       "TEXT MESSAGE                         7\n",
       "Name: Call Type, dtype: int64"
      ]
     },
     "execution_count": 20,
     "metadata": {},
     "output_type": "execute_result"
    }
   ],
   "source": [
    "#Looking at Call Type count\n",
    "df['Call Type'] = df['Call Type'].replace('-','NOT SPECIFIED')\n",
    "df['Call Type'].value_counts()"
   ]
  },
  {
   "cell_type": "code",
   "execution_count": 21,
   "metadata": {},
   "outputs": [],
   "source": [
    "#Turning the Year_of_Report to datetime value \n",
    "df['Year_of_Report'] = pd.to_datetime(df['Reported Date']).dt.year"
   ]
  },
  {
   "cell_type": "code",
   "execution_count": 22,
   "metadata": {},
   "outputs": [],
   "source": [
    "#Turning the Officer YOB into an interger\n",
    "df['Officer YOB'] = df['Officer YOB'].astype(int)"
   ]
  },
  {
   "cell_type": "code",
   "execution_count": 23,
   "metadata": {},
   "outputs": [],
   "source": [
    "df['Year_of_Report'] = df['Year_of_Report'].astype(int)"
   ]
  },
  {
   "cell_type": "code",
   "execution_count": 24,
   "metadata": {},
   "outputs": [
    {
     "data": {
      "text/plain": [
       "Subject Age Group           object\n",
       "Subject ID                   int64\n",
       "GO / SC Num                  int64\n",
       "Terry Stop ID                int64\n",
       "Stop Resolution             object\n",
       "Weapon Type                 object\n",
       "Officer ID                  object\n",
       "Officer YOB                  int64\n",
       "Officer Gender              object\n",
       "Officer Race                object\n",
       "Subject Perceived Race      object\n",
       "Subject Perceived Gender    object\n",
       "Reported Date               object\n",
       "Reported Time               object\n",
       "Initial Call Type           object\n",
       "Final Call Type             object\n",
       "Call Type                   object\n",
       "Officer Squad               object\n",
       "Arrest Flag                 object\n",
       "Frisk Flag                  object\n",
       "Precinct                    object\n",
       "Sector                      object\n",
       "Beat                        object\n",
       "Arrested                     int64\n",
       "White_Officer                int64\n",
       "Subject_POC                  int64\n",
       "Year_of_Report               int64\n",
       "dtype: object"
      ]
     },
     "execution_count": 24,
     "metadata": {},
     "output_type": "execute_result"
    }
   ],
   "source": [
    "df.dtypes"
   ]
  },
  {
   "cell_type": "code",
   "execution_count": 25,
   "metadata": {},
   "outputs": [],
   "source": [
    "df['Officer_Age'] = df['Year_of_Report'] - df['Officer YOB']"
   ]
  },
  {
   "cell_type": "code",
   "execution_count": 26,
   "metadata": {},
   "outputs": [],
   "source": [
    "df['Hour'] = pd.to_datetime(df['Reported Time'], format='%H:%M:%S').dt.hour"
   ]
  },
  {
   "cell_type": "code",
   "execution_count": 27,
   "metadata": {},
   "outputs": [],
   "source": [
    "df['Hour'] = df['Hour'].replace(0,24)"
   ]
  },
  {
   "cell_type": "code",
   "execution_count": 28,
   "metadata": {},
   "outputs": [],
   "source": [
    "df['Morning'] = (df['Hour'] >= 5) & (df['Hour'] < 12)\n",
    "df['Morning'] = df['Morning'].replace([True,False], [1,0])"
   ]
  },
  {
   "cell_type": "code",
   "execution_count": 29,
   "metadata": {},
   "outputs": [],
   "source": [
    "df['Afternoon']= (df['Hour'] >= 12) & (df['Hour'] < 17)\n",
    "df['Afternoon'] = df['Afternoon'].replace([True,False], [1,0])"
   ]
  },
  {
   "cell_type": "code",
   "execution_count": 30,
   "metadata": {},
   "outputs": [],
   "source": [
    "df['Evening'] = (df['Hour'] >= 17) & (df['Hour'] < 21)\n",
    "df['Evening'] = df['Evening'].replace([True,False], [1,0])"
   ]
  },
  {
   "cell_type": "code",
   "execution_count": 31,
   "metadata": {},
   "outputs": [],
   "source": [
    "df['Night'] = (df['Hour'] >= 21) & (df['Hour'] <= 24)\n",
    "df['Night'] = df['Night'].replace([True,False], [1,0])"
   ]
  },
  {
   "cell_type": "code",
   "execution_count": 32,
   "metadata": {},
   "outputs": [
    {
     "data": {
      "text/plain": [
       "18    2809\n",
       "2     2692\n",
       "19    2534\n",
       "3     2459\n",
       "17    2434\n",
       "23    2287\n",
       "1     2286\n",
       "16    2212\n",
       "15    2119\n",
       "24    2095\n",
       "14    2026\n",
       "22    1949\n",
       "11    1888\n",
       "13    1802\n",
       "10    1788\n",
       "21    1645\n",
       "12    1569\n",
       "5     1467\n",
       "9     1426\n",
       "4     1423\n",
       "20    1413\n",
       "8     1277\n",
       "7     1266\n",
       "6     1188\n",
       "Name: Hour, dtype: int64"
      ]
     },
     "execution_count": 32,
     "metadata": {},
     "output_type": "execute_result"
    }
   ],
   "source": [
    "df['Hour'].value_counts()"
   ]
  },
  {
   "cell_type": "code",
   "execution_count": 33,
   "metadata": {},
   "outputs": [],
   "source": [
    "under_70 = df[df['Officer_Age']<= 70]"
   ]
  },
  {
   "cell_type": "code",
   "execution_count": 34,
   "metadata": {},
   "outputs": [],
   "source": [
    "mean_age = round(under_70['Officer_Age'].mean(), 0)"
   ]
  },
  {
   "cell_type": "code",
   "execution_count": 35,
   "metadata": {},
   "outputs": [
    {
     "data": {
      "text/plain": [
       "31     3047\n",
       "30     2880\n",
       "33     2780\n",
       "32     2709\n",
       "29     2565\n",
       "34     2505\n",
       "28     2485\n",
       "26     2207\n",
       "27     2180\n",
       "25     1878\n",
       "35     1872\n",
       "24     1741\n",
       "36     1369\n",
       "37     1307\n",
       "38     1212\n",
       "39     1078\n",
       "40      994\n",
       "42      925\n",
       "23      913\n",
       "41      858\n",
       "44      748\n",
       "45      747\n",
       "46      707\n",
       "43      652\n",
       "48      652\n",
       "47      631\n",
       "49      581\n",
       "50      573\n",
       "54      439\n",
       "51      415\n",
       "53      399\n",
       "52      350\n",
       "55      321\n",
       "56      262\n",
       "22      252\n",
       "57      232\n",
       "58      182\n",
       "59       96\n",
       "60       79\n",
       "61       39\n",
       "63       34\n",
       "120      31\n",
       "119      28\n",
       "21       19\n",
       "62       19\n",
       "65       16\n",
       "64       14\n",
       "67       12\n",
       "121       4\n",
       "68        4\n",
       "118       3\n",
       "66        2\n",
       "116       2\n",
       "69        1\n",
       "70        1\n",
       "117       1\n",
       "115       1\n",
       "Name: Officer_Age, dtype: int64"
      ]
     },
     "execution_count": 35,
     "metadata": {},
     "output_type": "execute_result"
    }
   ],
   "source": [
    "df['Officer_Age'].value_counts()"
   ]
  },
  {
   "cell_type": "code",
   "execution_count": 36,
   "metadata": {},
   "outputs": [],
   "source": [
    "# Changed extreme values of age to the average age\n",
    "df['Officer_Age'] = df['Officer_Age'].replace([120,119,121,118,116,117,115],[mean_age,mean_age,mean_age,mean_age,mean_age,mean_age,mean_age])"
   ]
  },
  {
   "cell_type": "code",
   "execution_count": 37,
   "metadata": {},
   "outputs": [
    {
     "data": {
      "text/plain": [
       "31.0    3047\n",
       "30.0    2880\n",
       "33.0    2780\n",
       "32.0    2709\n",
       "29.0    2565\n",
       "34.0    2505\n",
       "28.0    2485\n",
       "26.0    2207\n",
       "27.0    2180\n",
       "35.0    1942\n",
       "25.0    1878\n",
       "24.0    1741\n",
       "36.0    1369\n",
       "37.0    1307\n",
       "38.0    1212\n",
       "39.0    1078\n",
       "40.0     994\n",
       "42.0     925\n",
       "23.0     913\n",
       "41.0     858\n",
       "44.0     748\n",
       "45.0     747\n",
       "46.0     707\n",
       "43.0     652\n",
       "48.0     652\n",
       "47.0     631\n",
       "49.0     581\n",
       "50.0     573\n",
       "54.0     439\n",
       "51.0     415\n",
       "53.0     399\n",
       "52.0     350\n",
       "55.0     321\n",
       "56.0     262\n",
       "22.0     252\n",
       "57.0     232\n",
       "58.0     182\n",
       "59.0      96\n",
       "60.0      79\n",
       "61.0      39\n",
       "63.0      34\n",
       "62.0      19\n",
       "21.0      19\n",
       "65.0      16\n",
       "64.0      14\n",
       "67.0      12\n",
       "68.0       4\n",
       "66.0       2\n",
       "69.0       1\n",
       "70.0       1\n",
       "Name: Officer_Age, dtype: int64"
      ]
     },
     "execution_count": 37,
     "metadata": {},
     "output_type": "execute_result"
    }
   ],
   "source": [
    "df['Officer_Age'].value_counts()"
   ]
  },
  {
   "cell_type": "code",
   "execution_count": 38,
   "metadata": {},
   "outputs": [
    {
     "data": {
      "image/png": "[encoded data removed]",
      "text/plain": [
       "<Figure size 432x288 with 1 Axes>"
      ]
     },
     "metadata": {
      "needs_background": "light"
     },
     "output_type": "display_data"
    }
   ],
   "source": [
    "size, scale = 100, 10\n",
    "\n",
    "df['Officer_Age'].plot.hist(grid=True, bins=20, rwidth=1,\n",
    "                   color='#607c8e')\n",
    "plt.title('Distribution of Officer Age')\n",
    "plt.xlabel('Officer Age')\n",
    "plt.ylabel('Quantity')\n",
    "plt.grid(axis='y', alpha=0.75)"
   ]
  },
  {
   "cell_type": "code",
   "execution_count": 39,
   "metadata": {},
   "outputs": [],
   "source": [
    "#Created a value of 'under_17' from the 'Subject Age Group'\n",
    "df['under_17'] = df['Subject Age Group']=='1 - 17'\n",
    "df['under_17'] = df['under_17'].replace([True, False], [1,0])"
   ]
  },
  {
   "cell_type": "code",
   "execution_count": 40,
   "metadata": {},
   "outputs": [
    {
     "data": {
      "text/plain": [
       "Index(['Subject Age Group', 'Subject ID', 'GO / SC Num', 'Terry Stop ID',\n",
       "       'Stop Resolution', 'Weapon Type', 'Officer ID', 'Officer YOB',\n",
       "       'Officer Gender', 'Officer Race', 'Subject Perceived Race',\n",
       "       'Subject Perceived Gender', 'Reported Date', 'Reported Time',\n",
       "       'Initial Call Type', 'Final Call Type', 'Call Type', 'Officer Squad',\n",
       "       'Arrest Flag', 'Frisk Flag', 'Precinct', 'Sector', 'Beat', 'Arrested',\n",
       "       'White_Officer', 'Subject_POC', 'Year_of_Report', 'Officer_Age', 'Hour',\n",
       "       'Morning', 'Afternoon', 'Evening', 'Night', 'under_17'],\n",
       "      dtype='object')"
      ]
     },
     "execution_count": 40,
     "metadata": {},
     "output_type": "execute_result"
    }
   ],
   "source": [
    "df.columns"
   ]
  },
  {
   "cell_type": "code",
   "execution_count": 41,
   "metadata": {},
   "outputs": [],
   "source": [
    "features = ['White_Officer', 'Subject_POC', 'Officer_Age', 'under_17','Morning', 'Afternoon', 'Evening', 'Night']"
   ]
  },
  {
   "cell_type": "code",
   "execution_count": 42,
   "metadata": {},
   "outputs": [
    {
     "data": {
      "text/plain": [
       "8"
      ]
     },
     "execution_count": 42,
     "metadata": {},
     "output_type": "execute_result"
    }
   ],
   "source": [
    "len(features)"
   ]
  },
  {
   "cell_type": "code",
   "execution_count": 43,
   "metadata": {},
   "outputs": [],
   "source": [
    "y = df['Arrested']"
   ]
  },
  {
   "cell_type": "code",
   "execution_count": 44,
   "metadata": {},
   "outputs": [],
   "source": [
    "X = df[features]"
   ]
  },
  {
   "cell_type": "code",
   "execution_count": 45,
   "metadata": {},
   "outputs": [],
   "source": [
    "#pandas_profiling.ProfileReport(X)"
   ]
  },
  {
   "cell_type": "code",
   "execution_count": 46,
   "metadata": {},
   "outputs": [
    {
     "data": {
      "text/plain": [
       "0    34712\n",
       "1    11342\n",
       "Name: Arrested, dtype: int64"
      ]
     },
     "execution_count": 46,
     "metadata": {},
     "output_type": "execute_result"
    }
   ],
   "source": [
    "df['Arrested'].value_counts()"
   ]
  }
 ],
 "metadata": {
  "kernelspec": {
   "display_name": "Python 3",
   "language": "python",
   "name": "python3"
  },
  "language_info": {
   "codemirror_mode": {
    "name": "ipython",
    "version": 3
   },
   "file_extension": ".py",
   "mimetype": "text/x-python",
   "name": "python",
   "nbconvert_exporter": "python",
   "pygments_lexer": "ipython3",
   "version": "3.6.9"
  }
 },
 "nbformat": 4,
 "nbformat_minor": 4
}
